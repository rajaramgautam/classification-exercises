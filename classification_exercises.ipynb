{
 "cells": [
  {
   "cell_type": "markdown",
   "id": "021d85f7",
   "metadata": {},
   "source": [
    "# 4. In a jupyter notebook, classification_exercises.ipynb, use a python module (pydata or seaborn datasets) containing datasets as a source from the iris data. Create a pandas dataframe, df_iris, from this data."
   ]
  },
  {
   "cell_type": "markdown",
   "id": "5957935b",
   "metadata": {},
   "source": [
    "- print the first 3 rows"
   ]
  },
  {
   "cell_type": "code",
   "execution_count": null,
   "id": "95a37ac8",
   "metadata": {},
   "outputs": [],
   "source": [
    "from pydataset import data\n",
    "df_iris = data('iris')\n",
    "df_iris\n",
    "df_iris.head(3)"
   ]
  },
  {
   "cell_type": "markdown",
   "id": "bb99c15d",
   "metadata": {},
   "source": [
    "- print the number of rows and columns (shape)"
   ]
  },
  {
   "cell_type": "code",
   "execution_count": null,
   "id": "7750dc4f",
   "metadata": {},
   "outputs": [],
   "source": [
    "df_iris.shape"
   ]
  },
  {
   "cell_type": "markdown",
   "id": "534ff548",
   "metadata": {},
   "source": [
    "- print the column names"
   ]
  },
  {
   "cell_type": "code",
   "execution_count": null,
   "id": "6bafa524",
   "metadata": {},
   "outputs": [],
   "source": [
    "df_iris.columns"
   ]
  },
  {
   "cell_type": "code",
   "execution_count": null,
   "id": "6dff50f2",
   "metadata": {},
   "outputs": [],
   "source": [
    "for col in df_iris.columns:\n",
    "    print(col)"
   ]
  },
  {
   "cell_type": "markdown",
   "id": "38038317",
   "metadata": {},
   "source": [
    "- print the data type of each column"
   ]
  },
  {
   "cell_type": "code",
   "execution_count": null,
   "id": "442dedf0",
   "metadata": {},
   "outputs": [],
   "source": [
    "df_iris.dtypes"
   ]
  },
  {
   "cell_type": "code",
   "execution_count": null,
   "id": "3e53cbcd",
   "metadata": {},
   "outputs": [],
   "source": [
    "df_iris.info()"
   ]
  },
  {
   "cell_type": "markdown",
   "id": "4a2562ec",
   "metadata": {},
   "source": [
    "- print the summary statistics for each of the numeric variables. Would you recommend rescaling the data based on these statistics?"
   ]
  },
  {
   "cell_type": "code",
   "execution_count": null,
   "id": "2d6d52c1",
   "metadata": {},
   "outputs": [],
   "source": [
    "df_iris.describe()"
   ]
  },
  {
   "cell_type": "markdown",
   "id": "e2192d47",
   "metadata": {},
   "source": [
    "# 5. Read the Table1_CustDetails table from the Excel_Exercises.xlsx file into a dataframe named df_excel.\n",
    "\n",
    "- assign the first 100 rows to a new dataframe, df_excel_sample\n",
    "- print the number of rows of your original dataframe\n",
    "- print the first 5 column names\n",
    "- print the column names that have a data type of object\n",
    "- compute the range for each of the numeric variables."
   ]
  },
  {
   "cell_type": "markdown",
   "id": "906c10ba",
   "metadata": {},
   "source": [
    "- assign the first 100 rows to a new dataframe, df_excel_sample"
   ]
  },
  {
   "cell_type": "code",
   "execution_count": null,
   "id": "252696de",
   "metadata": {},
   "outputs": [],
   "source": [
    "import pandas as pd\n",
    "\n",
    "sheet_url = 'https://docs.google.com/spreadsheets/d/1AUpCIpuh_XOMfHEDBolzle3CPqPUtZtUxT57GYTkB9w/edit#gid=1023018493'    \n",
    "# Please make sure you make the url sharable to everyone\n",
    "csv_export_url = sheet_url.replace('/edit#gid=', '/export?format=csv&gid=')\n",
    "\n",
    "df_excel = pd.read_csv(csv_export_url)\n",
    "df_excel_sample = df_excel.head(100)\n",
    "df_excel_sample"
   ]
  },
  {
   "cell_type": "markdown",
   "id": "a5353820",
   "metadata": {},
   "source": [
    "- print the number of rows of your original dataframe"
   ]
  },
  {
   "cell_type": "code",
   "execution_count": null,
   "id": "bb4283d8",
   "metadata": {},
   "outputs": [],
   "source": [
    "df_excel.shape[0]"
   ]
  },
  {
   "cell_type": "markdown",
   "id": "df404819",
   "metadata": {},
   "source": [
    "- print the first 5 column names"
   ]
  },
  {
   "cell_type": "code",
   "execution_count": null,
   "id": "c2b0868b",
   "metadata": {},
   "outputs": [],
   "source": [
    "df_excel.columns[:5]"
   ]
  },
  {
   "cell_type": "markdown",
   "id": "60cac162",
   "metadata": {},
   "source": [
    "- print the column names that have a data type of object"
   ]
  },
  {
   "cell_type": "code",
   "execution_count": null,
   "id": "9c7aabc9",
   "metadata": {},
   "outputs": [],
   "source": [
    "df_excel.info()"
   ]
  },
  {
   "cell_type": "code",
   "execution_count": null,
   "id": "341c708a",
   "metadata": {},
   "outputs": [],
   "source": [
    "list(df_excel.select_dtypes(['object']).columns)"
   ]
  },
  {
   "cell_type": "code",
   "execution_count": null,
   "id": "52f92057",
   "metadata": {},
   "outputs": [],
   "source": [
    "df_excel.dtypes[df_excel.dtypes == object]"
   ]
  },
  {
   "cell_type": "markdown",
   "id": "57e61bb6",
   "metadata": {},
   "source": [
    "- compute the range for each of the numeric variables."
   ]
  },
  {
   "cell_type": "code",
   "execution_count": null,
   "id": "9726a0ba",
   "metadata": {},
   "outputs": [],
   "source": [
    "df_excel.is_senior_citizen.max()- df_excel.is_senior_citizen.min()"
   ]
  },
  {
   "cell_type": "code",
   "execution_count": null,
   "id": "a00f99c2",
   "metadata": {},
   "outputs": [],
   "source": [
    "df_excel.phone_service.max()- df_excel.phone_service.min()"
   ]
  },
  {
   "cell_type": "code",
   "execution_count": null,
   "id": "14c3b6c0",
   "metadata": {},
   "outputs": [],
   "source": [
    "df_excel.internet_service.max()- df_excel.internet_service.min()"
   ]
  },
  {
   "cell_type": "code",
   "execution_count": null,
   "id": "f7b67d77",
   "metadata": {},
   "outputs": [],
   "source": [
    "df_excel.contract_type.max()- df_excel.contract_type.min()"
   ]
  },
  {
   "cell_type": "code",
   "execution_count": null,
   "id": "294760b5",
   "metadata": {},
   "outputs": [],
   "source": [
    "df_excel.monthly_charges.max() - df_excel.monthly_charges.min()"
   ]
  },
  {
   "cell_type": "code",
   "execution_count": null,
   "id": "9a553be4",
   "metadata": {},
   "outputs": [],
   "source": [
    "df_excel.total_charges.max() - df_excel.total_charges.min()"
   ]
  },
  {
   "cell_type": "code",
   "execution_count": null,
   "id": "ddfdb67c",
   "metadata": {},
   "outputs": [],
   "source": [
    "df_excel[df_excel.columns[(df_excel.dtypes == float) | (df_excel.dtypes == int)]].max() - df_excel[df_excel.columns[(df_excel.dtypes == float) | (df_excel.dtypes == int)]].min()"
   ]
  },
  {
   "cell_type": "code",
   "execution_count": null,
   "id": "36a52a52",
   "metadata": {},
   "outputs": [],
   "source": [
    "df_excel.describe()"
   ]
  },
  {
   "cell_type": "code",
   "execution_count": null,
   "id": "ef1240b9",
   "metadata": {},
   "outputs": [],
   "source": [
    "# I can select just the true numeric variables to declutter my results.\n",
    "\n",
    "telco_stats = df_excel[['monthly_charges', 'total_charges']].describe().T\n",
    "telco_stats"
   ]
  },
  {
   "cell_type": "code",
   "execution_count": null,
   "id": "3e5e10cd",
   "metadata": {},
   "outputs": [],
   "source": [
    "telco_stats['range'] = telco_stats['max'] - telco_stats['min']\n",
    "telco_stats"
   ]
  },
  {
   "cell_type": "markdown",
   "id": "186371f8",
   "metadata": {},
   "source": [
    "# 6. Read the data from this google sheet into a dataframe, df_google"
   ]
  },
  {
   "cell_type": "code",
   "execution_count": null,
   "id": "67877906",
   "metadata": {},
   "outputs": [],
   "source": [
    "\n",
    "\n",
    "import pandas as pd\n",
    "\n",
    "sheet_url = 'https://docs.google.com/spreadsheets/d/1Uhtml8KY19LILuZsrDtlsHHDC9wuDGUSe8LTEwvdI5g/edit#gid=341089357'    \n",
    "# This is url localtion for google sheet. Please make sure you make the url sharable to everyone\n",
    "\n",
    "csv_export_url = sheet_url.replace('/edit#gid=', '/export?format=csv&gid=')\n",
    "# export url and pull it here\n",
    "\n",
    "df_google = pd.read_csv(csv_export_url)\n",
    "\n",
    "df_google\n"
   ]
  },
  {
   "cell_type": "markdown",
   "id": "fd1bcff8",
   "metadata": {},
   "source": [
    "- print the first 3 rows"
   ]
  },
  {
   "cell_type": "code",
   "execution_count": null,
   "id": "991f27ff",
   "metadata": {},
   "outputs": [],
   "source": [
    "df_google.head(3)"
   ]
  },
  {
   "cell_type": "markdown",
   "id": "addbaf7d",
   "metadata": {},
   "source": [
    "- print the number of rows and columns"
   ]
  },
  {
   "cell_type": "code",
   "execution_count": null,
   "id": "340ad384",
   "metadata": {},
   "outputs": [],
   "source": [
    "df_google.shape"
   ]
  },
  {
   "cell_type": "markdown",
   "id": "ff1827a0",
   "metadata": {},
   "source": [
    "- print the column names"
   ]
  },
  {
   "cell_type": "code",
   "execution_count": null,
   "id": "d9eb2560",
   "metadata": {},
   "outputs": [],
   "source": [
    "df_google.columns.to_list()"
   ]
  },
  {
   "cell_type": "markdown",
   "id": "937120c6",
   "metadata": {},
   "source": [
    "- print the data type of each column"
   ]
  },
  {
   "cell_type": "code",
   "execution_count": null,
   "id": "cce22d59",
   "metadata": {},
   "outputs": [],
   "source": [
    "df_google.dtypes"
   ]
  },
  {
   "cell_type": "markdown",
   "id": "d55a474b",
   "metadata": {},
   "source": [
    "- print the summary statistics for each of the numeric variables"
   ]
  },
  {
   "cell_type": "code",
   "execution_count": null,
   "id": "2a171095",
   "metadata": {},
   "outputs": [],
   "source": [
    "df_google.describe().T"
   ]
  },
  {
   "cell_type": "markdown",
   "id": "3e5f9efb",
   "metadata": {},
   "source": [
    "- print the unique values for each of your categorical variables"
   ]
  },
  {
   "cell_type": "code",
   "execution_count": null,
   "id": "df5d7958",
   "metadata": {},
   "outputs": [],
   "source": [
    "# I could get a count of unique values for each variable with an object data type.\n",
    "\n",
    "for col in df_google.columns:\n",
    "#     print(col)\n",
    "    if df_google[col].dtypes == 'object':\n",
    "        print(f'{col} has {df_google[col].nunique()} unique values.')"
   ]
  },
  {
   "cell_type": "code",
   "execution_count": null,
   "id": "f804106b",
   "metadata": {},
   "outputs": [],
   "source": [
    "df_google.Survived.value_counts(dropna=False)"
   ]
  },
  {
   "cell_type": "code",
   "execution_count": null,
   "id": "3fd11b03",
   "metadata": {},
   "outputs": [],
   "source": [
    "df_google.Pclass.value_counts(dropna=False)"
   ]
  },
  {
   "cell_type": "code",
   "execution_count": null,
   "id": "f7b3242c",
   "metadata": {},
   "outputs": [],
   "source": [
    "df_google.Sex.value_counts(dropna=False)"
   ]
  },
  {
   "cell_type": "code",
   "execution_count": null,
   "id": "69134339",
   "metadata": {},
   "outputs": [],
   "source": [
    "df_google.Embarked.value_counts(dropna=False)"
   ]
  },
  {
   "cell_type": "markdown",
   "id": "78b76d19",
   "metadata": {},
   "source": [
    "# Exercises\n",
    "\n",
    "# The end product of this exercise should be the specified functions in a python script named prepare.py. Do these in your classification_exercises.ipynb first, then transfer to the prepare.py file.\n",
    "\n",
    "# This work should all be saved in your local classification-exercises repo. Then add, commit, and push your changes.\n"
   ]
  },
  {
   "cell_type": "markdown",
   "id": "3cd68729",
   "metadata": {},
   "source": [
    "# Using the Iris Data:"
   ]
  },
  {
   "cell_type": "markdown",
   "id": "b44e290a",
   "metadata": {},
   "source": [
    "# 1. Use the function defined in acquire.py to load the iris data."
   ]
  },
  {
   "cell_type": "code",
   "execution_count": null,
   "id": "40d6b2bf",
   "metadata": {},
   "outputs": [],
   "source": [
    "import pandas as pd\n",
    "import numpy as np\n",
    "import matplotlib.pyplot as plt\n",
    "import math\n",
    "\n",
    "# import splitting and imputing functions\n",
    "from sklearn.model_selection import train_test_split\n",
    "from sklearn.impute import SimpleImputer\n",
    "\n",
    "# turn off pink boxes for demo\n",
    "import warnings\n",
    "warnings.filterwarnings(\"ignore\")\n",
    "\n",
    "# import our own acquire module\n",
    "import acquire\n",
    "\n",
    "from pydataset import data\n",
    "\n",
    "import os\n",
    "\n",
    "# Remove limits on viewing dataframes\n",
    "\n",
    "pd.set_option('display.max_columns', None)\n"
   ]
  },
  {
   "cell_type": "code",
   "execution_count": null,
   "id": "839d5585",
   "metadata": {},
   "outputs": [],
   "source": [
    "df_iris = acquire.get_iris_data()\n",
    "df_iris.head()"
   ]
  },
  {
   "cell_type": "markdown",
   "id": "9e928a5d",
   "metadata": {},
   "source": [
    "# 2. Drop the species_id and measurement_id columns."
   ]
  },
  {
   "cell_type": "code",
   "execution_count": null,
   "id": "a56e8533",
   "metadata": {},
   "outputs": [],
   "source": [
    "df_iris = df_iris.drop(columns = ['species_id']) # There is no measurement_id columns\n"
   ]
  },
  {
   "cell_type": "code",
   "execution_count": null,
   "id": "e8e0eb17",
   "metadata": {},
   "outputs": [],
   "source": [
    "df_iris.head()"
   ]
  },
  {
   "cell_type": "markdown",
   "id": "858cf390",
   "metadata": {},
   "source": [
    "# 3. Rename the species_name column to just species."
   ]
  },
  {
   "cell_type": "code",
   "execution_count": null,
   "id": "141b41bd",
   "metadata": {},
   "outputs": [],
   "source": [
    "df_iris = df_iris.rename(columns = {'species_name':'species'})\n",
    "df_iris.head()"
   ]
  },
  {
   "cell_type": "markdown",
   "id": "345ab989",
   "metadata": {},
   "source": [
    "# 4. Create dummy variables of the species name and concatenate onto the iris dataframe."
   ]
  },
  {
   "cell_type": "code",
   "execution_count": null,
   "id": "10e0205f",
   "metadata": {},
   "outputs": [],
   "source": [
    "df_iris_dummies =  pd.get_dummies(df_iris[['species']], dummy_na = False, drop_first = [True])\n",
    "df_iris_dummies.head()"
   ]
  },
  {
   "cell_type": "code",
   "execution_count": null,
   "id": "6d31da0a",
   "metadata": {},
   "outputs": [],
   "source": [
    "df_iris = pd.concat([df_iris, df_iris_dummies], axis=1)\n",
    "df_iris = df_iris.drop(columns = ['species'])\n",
    "df_iris.head()"
   ]
  },
  {
   "cell_type": "markdown",
   "id": "541599aa",
   "metadata": {},
   "source": [
    "# 5. Create a function named prep_iris that accepts the untransformed iris data, and returns the data with the transformations above applied."
   ]
  },
  {
   "cell_type": "code",
   "execution_count": null,
   "id": "b076b905",
   "metadata": {},
   "outputs": [],
   "source": [
    "def prep_iris(df_iris):\n",
    "    # drop and rename columns\n",
    "    df_iris = df_iris.drop(columns = 'species_id').rename(columns = {'species_name':'species'})\n",
    "    \n",
    "    # Create dummy columns for species\n",
    "    df_iris_dummies =  pd.get_dummies(df_iris[['species']], dummy_na = False, drop_first = [True])\n",
    "    \n",
    "    \n",
    "    # add dummy columns to df_iris\n",
    "    df_iris = pd.concat([df_iris, df_iris_dummies], axis=1)\n",
    "    \n",
    "    return df_iris\n",
    "    "
   ]
  },
  {
   "cell_type": "code",
   "execution_count": null,
   "id": "b69f2833",
   "metadata": {},
   "outputs": [],
   "source": [
    "df_iris = acquire.new_iris_data()\n",
    "df_iris = prep_iris(df_iris)\n",
    "df_iris.head()"
   ]
  },
  {
   "cell_type": "markdown",
   "id": "1cff168b",
   "metadata": {},
   "source": [
    "# Using the Titanic dataset"
   ]
  },
  {
   "cell_type": "markdown",
   "id": "2ffcd469",
   "metadata": {},
   "source": [
    "# 1. Use the function defined in acquire.py to load the Titanic data."
   ]
  },
  {
   "cell_type": "code",
   "execution_count": null,
   "id": "17652573",
   "metadata": {},
   "outputs": [],
   "source": [
    "# Loading Titanic data using acquire.py  defined in acquisition exercise\n",
    "df_titanic = acquire.get_titanic_data()\n",
    "# viewing first 5 rows\n",
    "df_titanic.head()"
   ]
  },
  {
   "cell_type": "code",
   "execution_count": null,
   "id": "8d6e4c1b",
   "metadata": {},
   "outputs": [],
   "source": [
    "# Rows and Columns\n",
    "df_titanic.shape"
   ]
  },
  {
   "cell_type": "code",
   "execution_count": null,
   "id": "fddbd2e4",
   "metadata": {},
   "outputs": [],
   "source": [
    "# Getting information about the dataframe\n",
    "df_titanic.info()"
   ]
  },
  {
   "cell_type": "code",
   "execution_count": null,
   "id": "af48505d",
   "metadata": {},
   "outputs": [],
   "source": [
    "# Getting summary statistics from numeric columns\n",
    "df_titanic.describe()"
   ]
  },
  {
   "cell_type": "code",
   "execution_count": null,
   "id": "09c66d6b",
   "metadata": {},
   "outputs": [],
   "source": [
    "# Checking out distributions of numeric columns\n",
    "plt.hist(df_titanic['survived'])"
   ]
  },
  {
   "cell_type": "code",
   "execution_count": null,
   "id": "0dc5acfd",
   "metadata": {},
   "outputs": [],
   "source": [
    "num_cols = df_titanic.columns[[df_titanic[col].dtype == 'int64' for col in df_titanic.columns]]\n",
    "num_cols"
   ]
  },
  {
   "cell_type": "code",
   "execution_count": null,
   "id": "473dc511",
   "metadata": {},
   "outputs": [],
   "source": [
    "for col in num_cols:\n",
    "    plt.hist(df_titanic[col])\n",
    "    plt.title(col)\n",
    "    plt.show()\n",
    "    plt.boxplot(df_titanic[col])\n",
    "    plt.title(col)\n",
    "    plt.show()"
   ]
  },
  {
   "cell_type": "code",
   "execution_count": null,
   "id": "2beedcbe",
   "metadata": {},
   "outputs": [],
   "source": [
    "# Use .describe with object columns\n",
    "obj_cols = df_titanic.columns[[df_titanic[col].dtype == 'O' for col in df_titanic.columns]]\n",
    "obj_cols"
   ]
  },
  {
   "cell_type": "code",
   "execution_count": null,
   "id": "5ba79e25",
   "metadata": {},
   "outputs": [],
   "source": [
    "for col in obj_cols:\n",
    "    print(df_titanic[col].value_counts())\n",
    "    print(df_titanic[col].value_counts(normalize = True, dropna = False))\n",
    "    print('------------------------------')"
   ]
  },
  {
   "cell_type": "code",
   "execution_count": null,
   "id": "50f21e46",
   "metadata": {},
   "outputs": [],
   "source": [
    "# Create bins for fare using .value_counts.\n",
    "# Using sort = false will sort by bin values as opposed to the frequency counts.\n",
    "df_titanic.fare.value_counts(bins = 5, sort = False)"
   ]
  },
  {
   "cell_type": "code",
   "execution_count": null,
   "id": "e73fb527",
   "metadata": {},
   "outputs": [],
   "source": [
    "# Find columns with missing values and the total of missing values.\n",
    "missing = df_titanic.isnull().sum()\n",
    "missing[missing >0]"
   ]
  },
  {
   "cell_type": "markdown",
   "id": "a647926d",
   "metadata": {},
   "source": [
    "# Step 2: Cleaning Data"
   ]
  },
  {
   "cell_type": "markdown",
   "id": "afb8ceae",
   "metadata": {},
   "source": [
    "# 2. Drop any unnecessary, unhelpful, or duplicated columns."
   ]
  },
  {
   "cell_type": "code",
   "execution_count": null,
   "id": "82c4ac20",
   "metadata": {},
   "outputs": [],
   "source": [
    "# Drop duplicates... run just in case; reassign and check the shape of my data\n",
    "print(df_titanic.shape)\n",
    "df_titanic = df_titanic.drop_duplicates()\n",
    "print(df_titanic.shape)"
   ]
  },
  {
   "cell_type": "markdown",
   "id": "d9a01520",
   "metadata": {},
   "source": [
    "### Missing Data?"
   ]
  },
  {
   "cell_type": "code",
   "execution_count": null,
   "id": "8f2baa54",
   "metadata": {},
   "outputs": [],
   "source": [
    "# Drop columns with too many missing values for now and reassign; check the shape of my data.\n",
    "cols_to_drop = ['deck', 'embarked', 'class', 'age']\n",
    "df_titanic = df_titanic.drop(columns=cols_to_drop)\n",
    "df_titanic.shape"
   ]
  },
  {
   "cell_type": "code",
   "execution_count": null,
   "id": "4aab447f",
   "metadata": {},
   "outputs": [],
   "source": [
    "# Validate that the columns are dropped.\n",
    "df_titanic.head()"
   ]
  },
  {
   "cell_type": "markdown",
   "id": "92cc6097",
   "metadata": {},
   "source": [
    "We could fill embark_town with most common value, 'Southampton', by hard-coding the value using the fillna() function, as below. Or we could use an imputer. We will demonstrate the imputer after the train-validate-test split."
   ]
  },
  {
   "cell_type": "code",
   "execution_count": null,
   "id": "6e2876da",
   "metadata": {},
   "outputs": [],
   "source": [
    "# Run .fillna() on the entire df_titanic.\n",
    "df_titanic['embark_town'] = df_titanic.embark_town.fillna(value='Southampton')"
   ]
  },
  {
   "cell_type": "code",
   "execution_count": null,
   "id": "68f23b7f",
   "metadata": {},
   "outputs": [],
   "source": [
    "# Validate that missing values in embark_town have been handled.\n",
    "df_titanic.embark_town.isna().sum()"
   ]
  },
  {
   "cell_type": "markdown",
   "id": "3876ade3",
   "metadata": {},
   "source": [
    "### Outliers?\n",
    "There are a few outliers potentially in sibsp, parch, but without specific domain knowledge related to the titanic, I am not going to remove those outliers or snap them/compress them, I will ignore them for now.\n",
    "\n",
    "Erroneous Values?\n",
    "No erroneous values detected.\n",
    "\n",
    "### Correct Datatypes?"
   ]
  },
  {
   "cell_type": "code",
   "execution_count": null,
   "id": "9ee982f1",
   "metadata": {},
   "outputs": [],
   "source": [
    "df_titanic.dtypes"
   ]
  },
  {
   "cell_type": "markdown",
   "id": "01581076",
   "metadata": {},
   "source": [
    "### Text Normalization?\n",
    "No text normalization issues detected.\n",
    "\n",
    "\n",
    "### Tidy Data?"
   ]
  },
  {
   "cell_type": "code",
   "execution_count": null,
   "id": "508736cf",
   "metadata": {},
   "outputs": [],
   "source": [
    "# Each column should only represent one variable\n",
    "# Each row should be one observation (passenger)\n",
    "df_titanic.head()"
   ]
  },
  {
   "cell_type": "markdown",
   "id": "05b57839",
   "metadata": {},
   "source": [
    "# 3. Encode the categorical columns. Create dummy variables of the categorical columns and concatenate them onto the dataframe."
   ]
  },
  {
   "cell_type": "markdown",
   "id": "649f8c58",
   "metadata": {},
   "source": [
    "### Create New Variables?\n",
    "\n",
    "Get dummy vars for sex and embark_town\n",
    "\n",
    "dummy_na: create a dummy var for na values, also? drop_first: drop first dummy var (since we know if they do not belong to any of the vars listed, then they must belong to the first one that is not listed)."
   ]
  },
  {
   "cell_type": "code",
   "execution_count": null,
   "id": "3cc53353",
   "metadata": {},
   "outputs": [],
   "source": [
    "dummy_df_titanic = pd.get_dummies(df_titanic[['sex', 'embark_town']], dummy_na=False, drop_first=[True])\n",
    "dummy_df_titanic"
   ]
  },
  {
   "cell_type": "code",
   "execution_count": null,
   "id": "54cb99b9",
   "metadata": {},
   "outputs": [],
   "source": [
    "# Concatenate the dummy_df dataframe above with the original df and validate.\n",
    "df_titanic = pd.concat([df_titanic, dummy_df_titanic], axis=1)\n",
    "df_titanic.head()"
   ]
  },
  {
   "cell_type": "markdown",
   "id": "c0797de5",
   "metadata": {},
   "source": [
    "### Rename Columns?\n",
    "No renaming needed at this time.\n",
    "\n",
    "### Scaling Data?"
   ]
  },
  {
   "cell_type": "code",
   "execution_count": null,
   "id": "2ed5fc68",
   "metadata": {},
   "outputs": [],
   "source": [
    "# You want to scale data when you're using methods based on measures\n",
    "# of how far apart data points, like support vector machines\n",
    "# or k-nearest neighbors."
   ]
  },
  {
   "cell_type": "markdown",
   "id": "e9998cfc",
   "metadata": {},
   "source": [
    "### Lets not do that all over again repeatedly...lets make a function"
   ]
  },
  {
   "cell_type": "code",
   "execution_count": null,
   "id": "6612bf13",
   "metadata": {},
   "outputs": [],
   "source": [
    "def clean_data(df):\n",
    "    '''\n",
    "    This function will clean the data...\n",
    "    '''\n",
    "    df = df.drop_duplicates()\n",
    "    cols_to_drop = ['deck', 'embarked', 'class', 'age']\n",
    "    df = df.drop(columns=cols_to_drop)\n",
    "    df['embark_town'] = df.embark_town.fillna(value='Southampton')\n",
    "    dummy_df = pd.get_dummies(df[['sex', 'embark_town']], dummy_na=False, drop_first=[True, True])\n",
    "    df = pd.concat([df, dummy_df], axis=1)\n",
    "    return df"
   ]
  },
  {
   "cell_type": "markdown",
   "id": "30fcde5c",
   "metadata": {},
   "source": [
    "### Testing that the function does what we intend for it to do:"
   ]
  },
  {
   "cell_type": "code",
   "execution_count": null,
   "id": "02596f65",
   "metadata": {},
   "outputs": [],
   "source": [
    "df_titanic = acquire.get_titanic_data()\n",
    "df_titanic.head()"
   ]
  },
  {
   "cell_type": "code",
   "execution_count": null,
   "id": "def43156",
   "metadata": {},
   "outputs": [],
   "source": [
    "df_titanic = clean_data(df_titanic)\n",
    "df_titanic.head()"
   ]
  },
  {
   "cell_type": "code",
   "execution_count": null,
   "id": "c7dd1d3a",
   "metadata": {},
   "outputs": [],
   "source": [
    "df_titanic.info()"
   ]
  },
  {
   "cell_type": "markdown",
   "id": "62d06bce",
   "metadata": {},
   "source": [
    "# Step 3: Splitting"
   ]
  },
  {
   "cell_type": "code",
   "execution_count": null,
   "id": "26ca5830",
   "metadata": {},
   "outputs": [],
   "source": [
    "# 20% test, 80% train_validate\n",
    "# then of the 80% train_validate: 30% validate, 70% train. \n",
    "train, test = train_test_split(df_titanic, test_size = .2, random_state=123, stratify=df_titanic.survived)"
   ]
  },
  {
   "cell_type": "code",
   "execution_count": null,
   "id": "d505adcb",
   "metadata": {},
   "outputs": [],
   "source": [
    "print(train.shape)\n",
    "print(test.shape)"
   ]
  },
  {
   "cell_type": "code",
   "execution_count": null,
   "id": "edad4eb8",
   "metadata": {},
   "outputs": [],
   "source": [
    "train, validate = train_test_split(train, test_size=.3, random_state=123, stratify=train.survived)"
   ]
  },
  {
   "cell_type": "code",
   "execution_count": null,
   "id": "dc268040",
   "metadata": {},
   "outputs": [],
   "source": [
    "# Observe split\n",
    "print(f'Train: {train.shape}')\n",
    "print(f'Validate: {validate.shape}')\n",
    "print(f'Test: {test.shape}')"
   ]
  },
  {
   "cell_type": "markdown",
   "id": "1c0be9bb",
   "metadata": {},
   "source": [
    "# Turn it into a function"
   ]
  },
  {
   "cell_type": "code",
   "execution_count": null,
   "id": "10dff233",
   "metadata": {},
   "outputs": [],
   "source": [
    "def split_data(df):\n",
    "    '''\n",
    "    Takes in a dataframe and return train, validate, test subset dataframes\n",
    "    '''\n",
    "    train, test = train_test_split(df, test_size = .2, random_state=123, stratify=df.survived)\n",
    "    train, validate = train_test_split(train, test_size=.3, random_state=123, stratify=train.survived)\n",
    "    return train, validate, test"
   ]
  },
  {
   "cell_type": "markdown",
   "id": "adabafae",
   "metadata": {},
   "source": [
    "### Testing that the function is doing what we intend for it to do:"
   ]
  },
  {
   "cell_type": "code",
   "execution_count": null,
   "id": "7c6ee5a9",
   "metadata": {},
   "outputs": [],
   "source": [
    "df_titanic.shape"
   ]
  },
  {
   "cell_type": "code",
   "execution_count": null,
   "id": "371501d2",
   "metadata": {},
   "outputs": [],
   "source": [
    "train, validate, test = split_data(df_titanic)\n",
    "print(f'Train: {train.shape}')\n",
    "print(f'Validate: {validate.shape}')\n",
    "print(f'Test: {test.shape}')"
   ]
  },
  {
   "cell_type": "markdown",
   "id": "7e096321",
   "metadata": {},
   "source": [
    "### Alternative Method: Impute\n",
    "\n",
    "We can impute values using the mean, median, mode (most frequent), or a constant value. We will use sklearn.imputer.SimpleImputer to do this.\n",
    "\n",
    "Create the imputer object, selecting the strategy used to impute (mean, median or mode (strategy = 'most_frequent').\n",
    "Fit to train. This means compute the mean, median, or most_frequent (i.e. mode) for each of the columns that will be imputed. Store that value in the imputer object.\n",
    "Transform train: fill missing values in train dataset with the stored value\n",
    "Transform validate: fill missing values in validate dataset with the stored value\n",
    "Transform test: fill missing values in test dataset with the stored value"
   ]
  },
  {
   "cell_type": "code",
   "execution_count": null,
   "id": "2c8ca6dc",
   "metadata": {},
   "outputs": [],
   "source": [
    "# Get fresh Titanic data to use with missing values in embark_town again.\n",
    "df = acquire.get_titanic_data()\n",
    "train, validate, test = split_data(df)"
   ]
  },
  {
   "cell_type": "code",
   "execution_count": null,
   "id": "c927294b",
   "metadata": {},
   "outputs": [],
   "source": [
    "# ONLY look at train dataset after we split our data.\n",
    "train.info()"
   ]
  },
  {
   "cell_type": "markdown",
   "id": "e9dee95f",
   "metadata": {},
   "source": [
    "Create the SimpleImputer object, which we will store in the variable imputer. In the creation of the object, we will specify the strategy to use (mean, median, most_frequent). Essentially, this is creating the instructions and assigning them to a variable, imputer."
   ]
  },
  {
   "cell_type": "code",
   "execution_count": null,
   "id": "36a789fd",
   "metadata": {},
   "outputs": [],
   "source": [
    "imputer = SimpleImputer(missing_values = np.nan, strategy='most_frequent')"
   ]
  },
  {
   "cell_type": "markdown",
   "id": "b0f69bdf",
   "metadata": {},
   "source": [
    "Fit the imputer to the columns in the training df. This means that the imputer will determine the most_frequent value, or other value depending on the strategy called, for each column."
   ]
  },
  {
   "cell_type": "code",
   "execution_count": null,
   "id": "a8e3d92c",
   "metadata": {},
   "outputs": [],
   "source": [
    "imputer = imputer.fit(train[['embark_town']])"
   ]
  },
  {
   "cell_type": "markdown",
   "id": "053c91be",
   "metadata": {},
   "source": [
    "It will store that value in the imputer object to use upon calling transform. We will call transform on our train, validate, and test datasets to fill any missing values"
   ]
  },
  {
   "cell_type": "code",
   "execution_count": null,
   "id": "6af68a4a",
   "metadata": {},
   "outputs": [],
   "source": [
    "train[['embark_town']] = imputer.transform(train[['embark_town']])\n",
    "\n",
    "validate[['embark_town']] = imputer.transform(validate[['embark_town']])\n",
    "\n",
    "test[['embark_town']] = imputer.transform(test[['embark_town']])"
   ]
  },
  {
   "cell_type": "code",
   "execution_count": null,
   "id": "30853419",
   "metadata": {},
   "outputs": [],
   "source": [
    "# Validate that there are no longer any Null values in embark_town.\n",
    "print(train.embark_town.value_counts(dropna=False))\n",
    "print(validate.embark_town.value_counts(dropna=False))\n",
    "print(test.embark_town.value_counts(dropna=False))"
   ]
  },
  {
   "cell_type": "markdown",
   "id": "c1b582fe",
   "metadata": {},
   "source": [
    "### Simplify our life with a function\n",
    "\n",
    "Note: the clean_data() function is already dealing with missing values. If we want to use imputation, we will need to go back and tweak our earlier function."
   ]
  },
  {
   "cell_type": "code",
   "execution_count": null,
   "id": "ccfa76f5",
   "metadata": {},
   "outputs": [],
   "source": [
    "# Yay functions!\n",
    "def impute_mode(train, validate, test):\n",
    "    '''\n",
    "    Takes in train, validate, and test, and uses train to identify the best value to replace nulls in embark_town\n",
    "    Imputes that value into all three sets and returns all three sets\n",
    "    '''\n",
    "    imputer = SimpleImputer(missing_values = np.nan, strategy='most_frequent')\n",
    "    train[['embark_town']] = imputer.fit_transform(train[['embark_town']])\n",
    "    validate[['embark_town']] = imputer.transform(validate[['embark_town']])\n",
    "    test[['embark_town']] = imputer.transform(test[['embark_town']])\n",
    "    return train, validate, test"
   ]
  },
  {
   "cell_type": "markdown",
   "id": "37e1ef7f",
   "metadata": {},
   "source": [
    "# 4. Create a function named prep_titanic that accepts the raw titanic data, and returns the data with the transformations above applied."
   ]
  },
  {
   "cell_type": "markdown",
   "id": "baa42917",
   "metadata": {},
   "source": [
    "### We can create a function made of our other functions"
   ]
  },
  {
   "cell_type": "code",
   "execution_count": null,
   "id": "6e97efc6",
   "metadata": {},
   "outputs": [],
   "source": [
    "def prep_titanic_data(df):\n",
    "    '''\n",
    "    The ultimate dishwasher\n",
    "    '''\n",
    "    df = clean_data(df)\n",
    "    train, validate, test = split_data(df)\n",
    "    return train, validate, test"
   ]
  },
  {
   "cell_type": "code",
   "execution_count": null,
   "id": "af9c10ad",
   "metadata": {},
   "outputs": [],
   "source": [
    "# Acquire fresh Titanic data to test my funtion.\n",
    "df_titanic = acquire.get_titanic_data()\n",
    "df_titanic"
   ]
  },
  {
   "cell_type": "code",
   "execution_count": null,
   "id": "def08004",
   "metadata": {},
   "outputs": [],
   "source": [
    "# Run final prepare function and validate what that the function is working properly.\n",
    "prep_titanic_data(df_titanic)"
   ]
  },
  {
   "cell_type": "code",
   "execution_count": null,
   "id": "72f0dead",
   "metadata": {},
   "outputs": [],
   "source": [
    "print(f'{train.shape}')\n",
    "print(f'{validate.shape}')\n",
    "print(f'{test.shape}')"
   ]
  },
  {
   "cell_type": "markdown",
   "id": "6a1412df",
   "metadata": {},
   "source": []
  },
  {
   "cell_type": "markdown",
   "id": "86c7b9fd",
   "metadata": {},
   "source": [
    "# Using the Telco dataset"
   ]
  },
  {
   "cell_type": "markdown",
   "id": "6385f9b8",
   "metadata": {},
   "source": [
    "# 1. Use the function defined in acquire.py to load the Telco data."
   ]
  },
  {
   "cell_type": "code",
   "execution_count": null,
   "id": "39731fb3",
   "metadata": {},
   "outputs": [],
   "source": [
    "df_telco = acquire.get_telco_data()\n",
    "df_telco.head()"
   ]
  },
  {
   "cell_type": "code",
   "execution_count": null,
   "id": "c61760d9",
   "metadata": {},
   "outputs": [],
   "source": [
    "df_telco.info()"
   ]
  },
  {
   "cell_type": "code",
   "execution_count": null,
   "id": "ee840faf",
   "metadata": {},
   "outputs": [],
   "source": [
    "df_telco.shape"
   ]
  },
  {
   "cell_type": "code",
   "execution_count": null,
   "id": "af3752fd",
   "metadata": {},
   "outputs": [],
   "source": [
    "missing1 = df_telco.isnull().sum()\n",
    "missing1[missing1 > 0]"
   ]
  },
  {
   "cell_type": "markdown",
   "id": "1dc36acf",
   "metadata": {},
   "source": [
    "# 2. Drop any unnecessary, unhelpful, or duplicated columns. This could mean dropping foreign key columns but keeping the corresponding string values, for example."
   ]
  },
  {
   "cell_type": "code",
   "execution_count": null,
   "id": "e5953e0d",
   "metadata": {},
   "outputs": [],
   "source": [
    "# droping duplicates and unnecessary, unhelpful columns\n",
    "print(df_telco.shape)\n",
    "df_telco = df_telco.drop(columns=['payment_type_id', 'internet_service_type_id', 'contract_type_id', 'customer_id'])\n",
    "print(df_telco.shape)"
   ]
  },
  {
   "cell_type": "code",
   "execution_count": null,
   "id": "e36bd9da",
   "metadata": {},
   "outputs": [],
   "source": [
    " # Drop null values stored as whitespace\n",
    "df_telco['total_charges'] = df_telco['total_charges'].str.strip()\n",
    "df_telco = df_telco[df_telco.total_charges != '']\n",
    "print(df_telco.shape)"
   ]
  },
  {
   "cell_type": "code",
   "execution_count": null,
   "id": "dbe9c051",
   "metadata": {},
   "outputs": [],
   "source": [
    "# Convert to correct datatype\n",
    "df_telco['total_charges'] = df_telco.total_charges.astype(float)"
   ]
  },
  {
   "cell_type": "code",
   "execution_count": null,
   "id": "450e7018",
   "metadata": {},
   "outputs": [],
   "source": [
    "df_telco.info()"
   ]
  },
  {
   "cell_type": "markdown",
   "id": "43baa790",
   "metadata": {},
   "source": [
    "# 3. Encode the categorical columns. Create dummy variables of the categorical columns and concatenate them onto the dataframe."
   ]
  },
  {
   "cell_type": "code",
   "execution_count": null,
   "id": "7c6396b7",
   "metadata": {},
   "outputs": [],
   "source": [
    " # Convert binary categorical variables to numeric\n",
    "df_telco['gender_encoded'] = df_telco.gender.map({'Female': 1, 'Male': 0})\n",
    "df_telco['partner_encoded'] = df_telco.partner.map({'Yes': 1, 'No': 0})\n",
    "df_telco['dependents_encoded'] = df_telco.dependents.map({'Yes': 1, 'No': 0})\n",
    "df_telco['phone_service_encoded'] = df_telco.phone_service.map({'Yes': 1, 'No': 0})\n",
    "df_telco['paperless_billing_encoded'] = df_telco.paperless_billing.map({'Yes': 1, 'No': 0})\n",
    "df_telco['churn_encoded'] = df_telco.churn.map({'Yes': 1, 'No': 0})"
   ]
  },
  {
   "cell_type": "code",
   "execution_count": null,
   "id": "9e9d26e1",
   "metadata": {},
   "outputs": [],
   "source": [
    "df_telco.head()"
   ]
  },
  {
   "cell_type": "code",
   "execution_count": null,
   "id": "ef683bff",
   "metadata": {},
   "outputs": [],
   "source": [
    "# Get dummies for non-binary categorical variables\n",
    "dummy_df_telco = pd.get_dummies(df_telco[['multiple_lines',\n",
    "                              'online_security',\n",
    "                                  'online_backup',\n",
    "                                  'device_protection',\n",
    "                                  'tech_support',\n",
    "                                  'streaming_tv',\n",
    "                                  'streaming_movies',\n",
    "                                  'contract_type',\n",
    "                                  'internet_service_type',\n",
    "                                  'payment_type']], dummy_na=False,\n",
    "                              drop_first=True)\n",
    "dummy_df_telco.head()"
   ]
  },
  {
   "cell_type": "code",
   "execution_count": null,
   "id": "7a965b52",
   "metadata": {},
   "outputs": [],
   "source": [
    "# Concatenate dummy dataframe to original\n",
    "df_telco = pd.concat([df_telco, dummy_df_telco], axis=1)"
   ]
  },
  {
   "cell_type": "code",
   "execution_count": null,
   "id": "25e14d21",
   "metadata": {},
   "outputs": [],
   "source": [
    "df_telco.head()"
   ]
  },
  {
   "cell_type": "code",
   "execution_count": null,
   "id": "3fab1d0e",
   "metadata": {},
   "outputs": [],
   "source": [
    "def split_telco_data(df):\n",
    "    '''\n",
    "    This function performs split on telco data, stratify churn.\n",
    "    Returns train, validate, and test dfs.\n",
    "    '''\n",
    "    train_validate, test = train_test_split(df, test_size=.2,\n",
    "                                            random_state=123,\n",
    "                                            stratify=df.churn)\n",
    "    train, validate = train_test_split(train_validate, test_size=.2,\n",
    "                                       random_state=123,\n",
    "                                       stratify=train_validate.churn)\n",
    "    return train, validate, test\n"
   ]
  },
  {
   "cell_type": "code",
   "execution_count": null,
   "id": "8c7cd877",
   "metadata": {},
   "outputs": [],
   "source": [
    "# split the data\n",
    "train, validate, test = split_telco_data(df_telco)"
   ]
  },
  {
   "cell_type": "markdown",
   "id": "fbb47c65",
   "metadata": {},
   "source": [
    "# 4. Create a function named prep_telco that accepts the raw telco data, and returns the data with the transformations above applied."
   ]
  },
  {
   "cell_type": "code",
   "execution_count": null,
   "id": "6ad05db9",
   "metadata": {},
   "outputs": [],
   "source": [
    "def prep_telco_data(df):\n",
    "    # Drop duplicate columns\n",
    "    df.drop(columns=['payment_type_id', 'internet_service_type_id',\n",
    "            'contract_type_id', 'customer_id'], inplace=True)\n",
    "\n",
    "    # Drop null values stored as whitespace\n",
    "    df['total_charges'] = df['total_charges'].str.strip()\n",
    "    df = df[df.total_charges != '']\n",
    "\n",
    "    # Convert to correct datatype\n",
    "    df['total_charges'] = df.total_charges.astype(float)\n",
    "\n",
    "    # Convert binary categorical variables to numeric\n",
    "    df['gender_encoded'] = df.gender.map({'Female': 1, 'Male': 0})\n",
    "    df['partner_encoded'] = df.partner.map({'Yes': 1, 'No': 0})\n",
    "    df['dependents_encoded'] = df.dependents.map({'Yes': 1, 'No': 0})\n",
    "    df['phone_service_encoded'] = df.phone_service.map({'Yes': 1, 'No': 0})\n",
    "    df['paperless_billing_encoded'] = df.paperless_billing.map(\n",
    "        {'Yes': 1, 'No': 0})\n",
    "    df['churn_encoded'] = df.churn.map({'Yes': 1, 'No': 0})\n",
    "\n",
    "    # Get dummies for non-binary categorical variables\n",
    "    dummy_df = pd.get_dummies(df[['multiple_lines',\n",
    "                              'online_security',\n",
    "                                  'online_backup',\n",
    "                                  'device_protection',\n",
    "                                  'tech_support',\n",
    "                                  'streaming_tv',\n",
    "                                  'streaming_movies',\n",
    "                                  'contract_type',\n",
    "                                  'internet_service_type',\n",
    "                                  'payment_type']], dummy_na=False,\n",
    "                              drop_first=True)\n",
    "\n",
    "    # Concatenate dummy dataframe to original\n",
    "    df = pd.concat([df, dummy_df], axis=1)\n",
    "\n",
    "    # split the data\n",
    "    train, validate, test = split_telco_data(df)\n",
    "\n",
    "    return train, validate, test\n"
   ]
  },
  {
   "cell_type": "code",
   "execution_count": null,
   "id": "bd1a7143",
   "metadata": {},
   "outputs": [],
   "source": [
    "# Checking whether function works or not\n",
    "df_telco = acquire.get_telco_data()\n",
    "df_telco.head()\n",
    "prep_telco_data(df_telco)\n"
   ]
  },
  {
   "cell_type": "code",
   "execution_count": null,
   "id": "59fc9ec5",
   "metadata": {},
   "outputs": [],
   "source": [
    "print(f'{test.shape}')\n",
    "print(f'{validate.shape}')\n",
    "print(f'{train.shape}')\n"
   ]
  },
  {
   "cell_type": "markdown",
   "id": "4a144212",
   "metadata": {},
   "source": [
    "# Exploratory Analysis:"
   ]
  },
  {
   "cell_type": "markdown",
   "id": "eae5c410",
   "metadata": {},
   "source": [
    "# Exercises\n",
    "\n",
    "# Continue in your classification_exercises.ipynb notebook. As always, add, commit, and push your changes.\n",
    "\n",
    "# Section 1 - iris_db: Using iris data from our mySQL server and the methods used in the lesson above:\n",
    "\n",
    "# 1. Acquire, prepare & split your data."
   ]
  },
  {
   "cell_type": "code",
   "execution_count": 1,
   "id": "f0de11d3",
   "metadata": {},
   "outputs": [],
   "source": [
    "import warnings\n",
    "warnings.filterwarnings(\"ignore\")\n",
    "\n",
    "import pandas as pd\n",
    "import numpy as np\n",
    "import matplotlib.pyplot as plt\n",
    "import seaborn as sns\n",
    "from scipy import stats\n",
    "from sklearn.model_selection import train_test_split\n",
    "\n",
    "np.random.seed(123)"
   ]
  },
  {
   "cell_type": "code",
   "execution_count": 2,
   "id": "6064a258",
   "metadata": {},
   "outputs": [
    {
     "data": {
      "text/html": [
       "<div>\n",
       "<style scoped>\n",
       "    .dataframe tbody tr th:only-of-type {\n",
       "        vertical-align: middle;\n",
       "    }\n",
       "\n",
       "    .dataframe tbody tr th {\n",
       "        vertical-align: top;\n",
       "    }\n",
       "\n",
       "    .dataframe thead th {\n",
       "        text-align: right;\n",
       "    }\n",
       "</style>\n",
       "<table border=\"1\" class=\"dataframe\">\n",
       "  <thead>\n",
       "    <tr style=\"text-align: right;\">\n",
       "      <th></th>\n",
       "      <th>species_id</th>\n",
       "      <th>species_name</th>\n",
       "      <th>sepal_length</th>\n",
       "      <th>sepal_width</th>\n",
       "      <th>petal_length</th>\n",
       "      <th>petal_width</th>\n",
       "    </tr>\n",
       "  </thead>\n",
       "  <tbody>\n",
       "    <tr>\n",
       "      <th>0</th>\n",
       "      <td>1</td>\n",
       "      <td>setosa</td>\n",
       "      <td>5.1</td>\n",
       "      <td>3.5</td>\n",
       "      <td>1.4</td>\n",
       "      <td>0.2</td>\n",
       "    </tr>\n",
       "    <tr>\n",
       "      <th>1</th>\n",
       "      <td>1</td>\n",
       "      <td>setosa</td>\n",
       "      <td>4.9</td>\n",
       "      <td>3.0</td>\n",
       "      <td>1.4</td>\n",
       "      <td>0.2</td>\n",
       "    </tr>\n",
       "    <tr>\n",
       "      <th>2</th>\n",
       "      <td>1</td>\n",
       "      <td>setosa</td>\n",
       "      <td>4.7</td>\n",
       "      <td>3.2</td>\n",
       "      <td>1.3</td>\n",
       "      <td>0.2</td>\n",
       "    </tr>\n",
       "    <tr>\n",
       "      <th>3</th>\n",
       "      <td>1</td>\n",
       "      <td>setosa</td>\n",
       "      <td>4.6</td>\n",
       "      <td>3.1</td>\n",
       "      <td>1.5</td>\n",
       "      <td>0.2</td>\n",
       "    </tr>\n",
       "    <tr>\n",
       "      <th>4</th>\n",
       "      <td>1</td>\n",
       "      <td>setosa</td>\n",
       "      <td>5.0</td>\n",
       "      <td>3.6</td>\n",
       "      <td>1.4</td>\n",
       "      <td>0.2</td>\n",
       "    </tr>\n",
       "  </tbody>\n",
       "</table>\n",
       "</div>"
      ],
      "text/plain": [
       "   species_id species_name  sepal_length  sepal_width  petal_length  \\\n",
       "0           1       setosa           5.1          3.5           1.4   \n",
       "1           1       setosa           4.9          3.0           1.4   \n",
       "2           1       setosa           4.7          3.2           1.3   \n",
       "3           1       setosa           4.6          3.1           1.5   \n",
       "4           1       setosa           5.0          3.6           1.4   \n",
       "\n",
       "   petal_width  \n",
       "0          0.2  \n",
       "1          0.2  \n",
       "2          0.2  \n",
       "3          0.2  \n",
       "4          0.2  "
      ]
     },
     "execution_count": 2,
     "metadata": {},
     "output_type": "execute_result"
    }
   ],
   "source": [
    "# Acquiring iris_db from mySQL Server\n",
    "import env\n",
    "import acquire\n",
    "df = acquire.get_iris_data()\n",
    "df.head()"
   ]
  },
  {
   "cell_type": "code",
   "execution_count": 3,
   "id": "367503c4",
   "metadata": {},
   "outputs": [
    {
     "data": {
      "text/plain": [
       "species_id      0.0\n",
       "species_name    0.0\n",
       "sepal_length    0.0\n",
       "sepal_width     0.0\n",
       "petal_length    0.0\n",
       "petal_width     0.0\n",
       "dtype: float64"
      ]
     },
     "execution_count": 3,
     "metadata": {},
     "output_type": "execute_result"
    }
   ],
   "source": [
    "# Usefull helper for checking for nulls\n",
    "# What proportion of each column is empty\n",
    "df.isna().mean()"
   ]
  },
  {
   "cell_type": "code",
   "execution_count": 4,
   "id": "484e5a96",
   "metadata": {},
   "outputs": [],
   "source": [
    "# droping species_id column\n",
    "def prep_iris(df):\n",
    "    df = df.rename(columns = {'species_name': 'species'})\n",
    "    df = df.drop(columns = ['species_id']) # dropping species_id\n",
    "    return df"
   ]
  },
  {
   "cell_type": "code",
   "execution_count": 5,
   "id": "795ee428",
   "metadata": {},
   "outputs": [
    {
     "data": {
      "text/html": [
       "<div>\n",
       "<style scoped>\n",
       "    .dataframe tbody tr th:only-of-type {\n",
       "        vertical-align: middle;\n",
       "    }\n",
       "\n",
       "    .dataframe tbody tr th {\n",
       "        vertical-align: top;\n",
       "    }\n",
       "\n",
       "    .dataframe thead th {\n",
       "        text-align: right;\n",
       "    }\n",
       "</style>\n",
       "<table border=\"1\" class=\"dataframe\">\n",
       "  <thead>\n",
       "    <tr style=\"text-align: right;\">\n",
       "      <th></th>\n",
       "      <th>species</th>\n",
       "      <th>sepal_length</th>\n",
       "      <th>sepal_width</th>\n",
       "      <th>petal_length</th>\n",
       "      <th>petal_width</th>\n",
       "    </tr>\n",
       "  </thead>\n",
       "  <tbody>\n",
       "    <tr>\n",
       "      <th>0</th>\n",
       "      <td>setosa</td>\n",
       "      <td>5.1</td>\n",
       "      <td>3.5</td>\n",
       "      <td>1.4</td>\n",
       "      <td>0.2</td>\n",
       "    </tr>\n",
       "    <tr>\n",
       "      <th>1</th>\n",
       "      <td>setosa</td>\n",
       "      <td>4.9</td>\n",
       "      <td>3.0</td>\n",
       "      <td>1.4</td>\n",
       "      <td>0.2</td>\n",
       "    </tr>\n",
       "    <tr>\n",
       "      <th>2</th>\n",
       "      <td>setosa</td>\n",
       "      <td>4.7</td>\n",
       "      <td>3.2</td>\n",
       "      <td>1.3</td>\n",
       "      <td>0.2</td>\n",
       "    </tr>\n",
       "    <tr>\n",
       "      <th>3</th>\n",
       "      <td>setosa</td>\n",
       "      <td>4.6</td>\n",
       "      <td>3.1</td>\n",
       "      <td>1.5</td>\n",
       "      <td>0.2</td>\n",
       "    </tr>\n",
       "    <tr>\n",
       "      <th>4</th>\n",
       "      <td>setosa</td>\n",
       "      <td>5.0</td>\n",
       "      <td>3.6</td>\n",
       "      <td>1.4</td>\n",
       "      <td>0.2</td>\n",
       "    </tr>\n",
       "  </tbody>\n",
       "</table>\n",
       "</div>"
      ],
      "text/plain": [
       "  species  sepal_length  sepal_width  petal_length  petal_width\n",
       "0  setosa           5.1          3.5           1.4          0.2\n",
       "1  setosa           4.9          3.0           1.4          0.2\n",
       "2  setosa           4.7          3.2           1.3          0.2\n",
       "3  setosa           4.6          3.1           1.5          0.2\n",
       "4  setosa           5.0          3.6           1.4          0.2"
      ]
     },
     "execution_count": 5,
     "metadata": {},
     "output_type": "execute_result"
    }
   ],
   "source": [
    "df = prep_iris(df)\n",
    "df.head()"
   ]
  },
  {
   "cell_type": "code",
   "execution_count": 6,
   "id": "24dba295",
   "metadata": {},
   "outputs": [
    {
     "name": "stdout",
     "output_type": "stream",
     "text": [
      "<class 'pandas.core.frame.DataFrame'>\n",
      "Int64Index: 150 entries, 0 to 149\n",
      "Data columns (total 5 columns):\n",
      " #   Column        Non-Null Count  Dtype  \n",
      "---  ------        --------------  -----  \n",
      " 0   species       150 non-null    object \n",
      " 1   sepal_length  150 non-null    float64\n",
      " 2   sepal_width   150 non-null    float64\n",
      " 3   petal_length  150 non-null    float64\n",
      " 4   petal_width   150 non-null    float64\n",
      "dtypes: float64(4), object(1)\n",
      "memory usage: 7.0+ KB\n"
     ]
    }
   ],
   "source": [
    "df.info()"
   ]
  },
  {
   "cell_type": "markdown",
   "id": "04dec332",
   "metadata": {},
   "source": [
    "Split your data into train, validate, and test samples"
   ]
  },
  {
   "cell_type": "code",
   "execution_count": 7,
   "id": "c2feea24",
   "metadata": {},
   "outputs": [],
   "source": [
    "def train_validate_test_split(df, target, seed=123):\n",
    "    '''\n",
    "    This function takes in a dataframe, the name of the target variable\n",
    "    (for stratification purposes), and an integer for a setting a seed\n",
    "    and splits the data into train, validate and test. \n",
    "    Test is 20% of the original dataset, validate is .30*.80= 24% of the \n",
    "    original dataset, and train is .70*.80= 56% of the original dataset. \n",
    "    The function returns, in this order, train, validate and test dataframes. \n",
    "    '''\n",
    "    train_validate, test = train_test_split(df, test_size=0.2, \n",
    "                                            random_state=seed, \n",
    "                                            stratify=df[target])\n",
    "    train, validate = train_test_split(train_validate, test_size=0.3, \n",
    "                                       random_state=seed,\n",
    "                                       stratify=train_validate[target])\n",
    "    return train, validate, test"
   ]
  },
  {
   "cell_type": "code",
   "execution_count": 9,
   "id": "eb0e7d62",
   "metadata": {},
   "outputs": [
    {
     "data": {
      "text/plain": [
       "((84, 5), (36, 5), (30, 5))"
      ]
     },
     "execution_count": 9,
     "metadata": {},
     "output_type": "execute_result"
    }
   ],
   "source": [
    "train, validate, test = train_validate_test_split(df, target='species')\n",
    "train.shape, validate.shape, test.shape"
   ]
  },
  {
   "cell_type": "markdown",
   "id": "d2df21fc",
   "metadata": {},
   "source": [
    "# 2. Univariate Stats\n",
    "\n",
    "- For each measurement type (quantitative variable): create a histogram, boxplot, & compute descriptive statistics (using .describe())."
   ]
  },
  {
   "cell_type": "code",
   "execution_count": 10,
   "id": "790dac7c",
   "metadata": {},
   "outputs": [
    {
     "name": "stdout",
     "output_type": "stream",
     "text": [
      "<class 'pandas.core.frame.DataFrame'>\n",
      "Int64Index: 84 entries, 79 to 73\n",
      "Data columns (total 5 columns):\n",
      " #   Column        Non-Null Count  Dtype  \n",
      "---  ------        --------------  -----  \n",
      " 0   species       84 non-null     object \n",
      " 1   sepal_length  84 non-null     float64\n",
      " 2   sepal_width   84 non-null     float64\n",
      " 3   petal_length  84 non-null     float64\n",
      " 4   petal_width   84 non-null     float64\n",
      "dtypes: float64(4), object(1)\n",
      "memory usage: 3.9+ KB\n"
     ]
    }
   ],
   "source": [
    "train.info()"
   ]
  },
  {
   "cell_type": "code",
   "execution_count": 11,
   "id": "13541060",
   "metadata": {},
   "outputs": [
    {
     "data": {
      "text/html": [
       "<div>\n",
       "<style scoped>\n",
       "    .dataframe tbody tr th:only-of-type {\n",
       "        vertical-align: middle;\n",
       "    }\n",
       "\n",
       "    .dataframe tbody tr th {\n",
       "        vertical-align: top;\n",
       "    }\n",
       "\n",
       "    .dataframe thead th {\n",
       "        text-align: right;\n",
       "    }\n",
       "</style>\n",
       "<table border=\"1\" class=\"dataframe\">\n",
       "  <thead>\n",
       "    <tr style=\"text-align: right;\">\n",
       "      <th></th>\n",
       "      <th>species</th>\n",
       "      <th>sepal_length</th>\n",
       "      <th>sepal_width</th>\n",
       "      <th>petal_length</th>\n",
       "      <th>petal_width</th>\n",
       "    </tr>\n",
       "  </thead>\n",
       "  <tbody>\n",
       "    <tr>\n",
       "      <th>79</th>\n",
       "      <td>versicolor</td>\n",
       "      <td>5.7</td>\n",
       "      <td>2.6</td>\n",
       "      <td>3.5</td>\n",
       "      <td>1.0</td>\n",
       "    </tr>\n",
       "    <tr>\n",
       "      <th>36</th>\n",
       "      <td>setosa</td>\n",
       "      <td>5.5</td>\n",
       "      <td>3.5</td>\n",
       "      <td>1.3</td>\n",
       "      <td>0.2</td>\n",
       "    </tr>\n",
       "    <tr>\n",
       "      <th>133</th>\n",
       "      <td>virginica</td>\n",
       "      <td>6.3</td>\n",
       "      <td>2.8</td>\n",
       "      <td>5.1</td>\n",
       "      <td>1.5</td>\n",
       "    </tr>\n",
       "    <tr>\n",
       "      <th>95</th>\n",
       "      <td>versicolor</td>\n",
       "      <td>5.7</td>\n",
       "      <td>3.0</td>\n",
       "      <td>4.2</td>\n",
       "      <td>1.2</td>\n",
       "    </tr>\n",
       "    <tr>\n",
       "      <th>18</th>\n",
       "      <td>setosa</td>\n",
       "      <td>5.7</td>\n",
       "      <td>3.8</td>\n",
       "      <td>1.7</td>\n",
       "      <td>0.3</td>\n",
       "    </tr>\n",
       "  </tbody>\n",
       "</table>\n",
       "</div>"
      ],
      "text/plain": [
       "        species  sepal_length  sepal_width  petal_length  petal_width\n",
       "79   versicolor           5.7          2.6           3.5          1.0\n",
       "36       setosa           5.5          3.5           1.3          0.2\n",
       "133   virginica           6.3          2.8           5.1          1.5\n",
       "95   versicolor           5.7          3.0           4.2          1.2\n",
       "18       setosa           5.7          3.8           1.7          0.3"
      ]
     },
     "execution_count": 11,
     "metadata": {},
     "output_type": "execute_result"
    }
   ],
   "source": [
    "train.head()"
   ]
  },
  {
   "cell_type": "code",
   "execution_count": 12,
   "id": "694cc604",
   "metadata": {},
   "outputs": [
    {
     "data": {
      "text/html": [
       "<div>\n",
       "<style scoped>\n",
       "    .dataframe tbody tr th:only-of-type {\n",
       "        vertical-align: middle;\n",
       "    }\n",
       "\n",
       "    .dataframe tbody tr th {\n",
       "        vertical-align: top;\n",
       "    }\n",
       "\n",
       "    .dataframe thead th {\n",
       "        text-align: right;\n",
       "    }\n",
       "</style>\n",
       "<table border=\"1\" class=\"dataframe\">\n",
       "  <thead>\n",
       "    <tr style=\"text-align: right;\">\n",
       "      <th></th>\n",
       "      <th>sepal_length</th>\n",
       "      <th>sepal_width</th>\n",
       "      <th>petal_length</th>\n",
       "      <th>petal_width</th>\n",
       "    </tr>\n",
       "  </thead>\n",
       "  <tbody>\n",
       "    <tr>\n",
       "      <th>count</th>\n",
       "      <td>84.000000</td>\n",
       "      <td>84.000000</td>\n",
       "      <td>84.000000</td>\n",
       "      <td>84.000000</td>\n",
       "    </tr>\n",
       "    <tr>\n",
       "      <th>mean</th>\n",
       "      <td>5.870238</td>\n",
       "      <td>3.075000</td>\n",
       "      <td>3.771429</td>\n",
       "      <td>1.203571</td>\n",
       "    </tr>\n",
       "    <tr>\n",
       "      <th>std</th>\n",
       "      <td>0.769099</td>\n",
       "      <td>0.448256</td>\n",
       "      <td>1.734940</td>\n",
       "      <td>0.752577</td>\n",
       "    </tr>\n",
       "    <tr>\n",
       "      <th>min</th>\n",
       "      <td>4.400000</td>\n",
       "      <td>2.200000</td>\n",
       "      <td>1.200000</td>\n",
       "      <td>0.100000</td>\n",
       "    </tr>\n",
       "    <tr>\n",
       "      <th>25%</th>\n",
       "      <td>5.375000</td>\n",
       "      <td>2.800000</td>\n",
       "      <td>1.600000</td>\n",
       "      <td>0.400000</td>\n",
       "    </tr>\n",
       "    <tr>\n",
       "      <th>50%</th>\n",
       "      <td>5.800000</td>\n",
       "      <td>3.000000</td>\n",
       "      <td>4.250000</td>\n",
       "      <td>1.300000</td>\n",
       "    </tr>\n",
       "    <tr>\n",
       "      <th>75%</th>\n",
       "      <td>6.400000</td>\n",
       "      <td>3.400000</td>\n",
       "      <td>5.100000</td>\n",
       "      <td>1.800000</td>\n",
       "    </tr>\n",
       "    <tr>\n",
       "      <th>max</th>\n",
       "      <td>7.900000</td>\n",
       "      <td>4.400000</td>\n",
       "      <td>6.900000</td>\n",
       "      <td>2.500000</td>\n",
       "    </tr>\n",
       "  </tbody>\n",
       "</table>\n",
       "</div>"
      ],
      "text/plain": [
       "       sepal_length  sepal_width  petal_length  petal_width\n",
       "count     84.000000    84.000000     84.000000    84.000000\n",
       "mean       5.870238     3.075000      3.771429     1.203571\n",
       "std        0.769099     0.448256      1.734940     0.752577\n",
       "min        4.400000     2.200000      1.200000     0.100000\n",
       "25%        5.375000     2.800000      1.600000     0.400000\n",
       "50%        5.800000     3.000000      4.250000     1.300000\n",
       "75%        6.400000     3.400000      5.100000     1.800000\n",
       "max        7.900000     4.400000      6.900000     2.500000"
      ]
     },
     "execution_count": 12,
     "metadata": {},
     "output_type": "execute_result"
    }
   ],
   "source": [
    "train.describe()"
   ]
  },
  {
   "cell_type": "code",
   "execution_count": 13,
   "id": "3434f4e8",
   "metadata": {},
   "outputs": [
    {
     "data": {
      "image/png": "[encoded data removed]",
      "text/plain": [
       "<Figure size 432x288 with 1 Axes>"
      ]
     },
     "metadata": {
      "needs_background": "light"
     },
     "output_type": "display_data"
    }
   ],
   "source": [
    "plt.title(\"Histogram of Sepal Length\")\n",
    "train.sepal_length.hist()\n",
    "plt.show()"
   ]
  },
  {
   "cell_type": "code",
   "execution_count": 14,
   "id": "b43752cf",
   "metadata": {},
   "outputs": [
    {
     "data": {
      "text/plain": [
       "<AxesSubplot:>"
      ]
     },
     "execution_count": 14,
     "metadata": {},
     "output_type": "execute_result"
    },
    {
     "data": {
      "image/png": "[encoded data removed]",
      "text/plain": [
       "<Figure size 432x288 with 1 Axes>"
      ]
     },
     "metadata": {
      "needs_background": "light"
     },
     "output_type": "display_data"
    }
   ],
   "source": [
    "train.boxplot(column = ['sepal_length'])"
   ]
  },
  {
   "cell_type": "code",
   "execution_count": 15,
   "id": "436314a0",
   "metadata": {},
   "outputs": [
    {
     "data": {
      "text/plain": [
       "count    84.000000\n",
       "mean      5.870238\n",
       "std       0.769099\n",
       "min       4.400000\n",
       "25%       5.375000\n",
       "50%       5.800000\n",
       "75%       6.400000\n",
       "max       7.900000\n",
       "Name: sepal_length, dtype: float64"
      ]
     },
     "execution_count": 15,
     "metadata": {},
     "output_type": "execute_result"
    }
   ],
   "source": [
    "train.sepal_length.describe()"
   ]
  },
  {
   "cell_type": "code",
   "execution_count": 16,
   "id": "8b07dea9",
   "metadata": {},
   "outputs": [
    {
     "data": {
      "image/png": "[encoded data removed]",
      "text/plain": [
       "<Figure size 432x288 with 1 Axes>"
      ]
     },
     "metadata": {
      "needs_background": "light"
     },
     "output_type": "display_data"
    }
   ],
   "source": [
    "plt.title(\"Histogram of Sepal Width\")\n",
    "train.sepal_width.hist()\n",
    "plt.show()"
   ]
  },
  {
   "cell_type": "code",
   "execution_count": 17,
   "id": "9ae0bb6a",
   "metadata": {},
   "outputs": [
    {
     "data": {
      "text/plain": [
       "<AxesSubplot:>"
      ]
     },
     "execution_count": 17,
     "metadata": {},
     "output_type": "execute_result"
    },
    {
     "data": {
      "image/png": "[encoded data removed]",
      "text/plain": [
       "<Figure size 432x288 with 1 Axes>"
      ]
     },
     "metadata": {
      "needs_background": "light"
     },
     "output_type": "display_data"
    }
   ],
   "source": [
    "train.boxplot(column = ['sepal_width'])"
   ]
  },
  {
   "cell_type": "code",
   "execution_count": 18,
   "id": "d922d30e",
   "metadata": {},
   "outputs": [
    {
     "data": {
      "text/plain": [
       "count    84.000000\n",
       "mean      3.075000\n",
       "std       0.448256\n",
       "min       2.200000\n",
       "25%       2.800000\n",
       "50%       3.000000\n",
       "75%       3.400000\n",
       "max       4.400000\n",
       "Name: sepal_width, dtype: float64"
      ]
     },
     "execution_count": 18,
     "metadata": {},
     "output_type": "execute_result"
    }
   ],
   "source": [
    "train.sepal_width.describe()"
   ]
  },
  {
   "cell_type": "code",
   "execution_count": 19,
   "id": "3918e490",
   "metadata": {},
   "outputs": [
    {
     "data": {
      "image/png": "[encoded data removed]",
      "text/plain": [
       "<Figure size 432x288 with 1 Axes>"
      ]
     },
     "metadata": {
      "needs_background": "light"
     },
     "output_type": "display_data"
    }
   ],
   "source": [
    "plt.title(\"Histogram of Petal Length\")\n",
    "train.petal_length.hist()\n",
    "plt.show()"
   ]
  },
  {
   "cell_type": "code",
   "execution_count": 20,
   "id": "37d07793",
   "metadata": {},
   "outputs": [
    {
     "data": {
      "text/plain": [
       "<AxesSubplot:>"
      ]
     },
     "execution_count": 20,
     "metadata": {},
     "output_type": "execute_result"
    },
    {
     "data": {
      "image/png": "[encoded data removed]",
      "text/plain": [
       "<Figure size 432x288 with 1 Axes>"
      ]
     },
     "metadata": {
      "needs_background": "light"
     },
     "output_type": "display_data"
    }
   ],
   "source": [
    "train.boxplot(column = ['petal_length'])"
   ]
  },
  {
   "cell_type": "code",
   "execution_count": 21,
   "id": "20689f91",
   "metadata": {},
   "outputs": [
    {
     "data": {
      "text/plain": [
       "count    84.000000\n",
       "mean      3.771429\n",
       "std       1.734940\n",
       "min       1.200000\n",
       "25%       1.600000\n",
       "50%       4.250000\n",
       "75%       5.100000\n",
       "max       6.900000\n",
       "Name: petal_length, dtype: float64"
      ]
     },
     "execution_count": 21,
     "metadata": {},
     "output_type": "execute_result"
    }
   ],
   "source": [
    "train.petal_length.describe()"
   ]
  },
  {
   "cell_type": "code",
   "execution_count": 22,
   "id": "90fe6a61",
   "metadata": {},
   "outputs": [
    {
     "data": {
      "image/png": "[encoded data removed]",
      "text/plain": [
       "<Figure size 432x288 with 1 Axes>"
      ]
     },
     "metadata": {
      "needs_background": "light"
     },
     "output_type": "display_data"
    }
   ],
   "source": [
    "plt.title(\"Histogram of Petal Width\")\n",
    "train.petal_width.hist()\n",
    "plt.show()"
   ]
  },
  {
   "cell_type": "code",
   "execution_count": 23,
   "id": "dd47014d",
   "metadata": {},
   "outputs": [
    {
     "data": {
      "text/plain": [
       "<AxesSubplot:>"
      ]
     },
     "execution_count": 23,
     "metadata": {},
     "output_type": "execute_result"
    },
    {
     "data": {
      "image/png": "[encoded data removed]",
      "text/plain": [
       "<Figure size 432x288 with 1 Axes>"
      ]
     },
     "metadata": {
      "needs_background": "light"
     },
     "output_type": "display_data"
    }
   ],
   "source": [
    "train.boxplot(column = ['petal_width'])"
   ]
  },
  {
   "cell_type": "code",
   "execution_count": 24,
   "id": "c8ce210a",
   "metadata": {},
   "outputs": [
    {
     "data": {
      "text/plain": [
       "count    84.000000\n",
       "mean      1.203571\n",
       "std       0.752577\n",
       "min       0.100000\n",
       "25%       0.400000\n",
       "50%       1.300000\n",
       "75%       1.800000\n",
       "max       2.500000\n",
       "Name: petal_width, dtype: float64"
      ]
     },
     "execution_count": 24,
     "metadata": {},
     "output_type": "execute_result"
    }
   ],
   "source": [
    "train.petal_width.describe()"
   ]
  },
  {
   "cell_type": "markdown",
   "id": "c9a91470",
   "metadata": {},
   "source": [
    "- For each species (categorical variable): create a frequency table and a bar plot of those frequencies."
   ]
  },
  {
   "cell_type": "code",
   "execution_count": 26,
   "id": "e48110a5",
   "metadata": {},
   "outputs": [
    {
     "data": {
      "text/plain": [
       "versicolor    28\n",
       "setosa        28\n",
       "virginica     28\n",
       "Name: species, dtype: int64"
      ]
     },
     "execution_count": 26,
     "metadata": {},
     "output_type": "execute_result"
    }
   ],
   "source": [
    "train.species.value_counts()"
   ]
  },
  {
   "cell_type": "code",
   "execution_count": 27,
   "id": "8e729e13",
   "metadata": {},
   "outputs": [
    {
     "data": {
      "text/plain": [
       "<AxesSubplot:>"
      ]
     },
     "execution_count": 27,
     "metadata": {},
     "output_type": "execute_result"
    },
    {
     "data": {
      "image/png": "[encoded data removed]",
      "text/plain": [
       "<Figure size 432x288 with 1 Axes>"
      ]
     },
     "metadata": {
      "needs_background": "light"
     },
     "output_type": "display_data"
    }
   ],
   "source": [
    "train.species.value_counts().plot.bar()"
   ]
  },
  {
   "cell_type": "markdown",
   "id": "56542019",
   "metadata": {},
   "source": [
    "- Document takeaways & any actions."
   ]
  },
  {
   "cell_type": "markdown",
   "id": "220709db",
   "metadata": {},
   "source": [
    "# 3. Bivariate Stats"
   ]
  },
  {
   "cell_type": "markdown",
   "id": "d1b3be63",
   "metadata": {},
   "source": [
    "Visualize each measurement type (y-axis) with the species variable (x-axis) using barplots, adding a horizontal line showing the overall mean of the metric (y-axis).\n",
    "\n",
    "For each measurement type, compute the descriptive statistics for each species.\n",
    "\n",
    "For virginica & versicolor: Compare the mean petal_width using the Mann-Whitney test (scipy.stats.mannwhitneyu) to see if there is a significant difference between the two groups. Do the same for the other measurement types.\n",
    "\n",
    "Document takeaways & any actions."
   ]
  },
  {
   "cell_type": "code",
   "execution_count": 28,
   "id": "6e3b8b2e",
   "metadata": {},
   "outputs": [
    {
     "data": {
      "image/png": "[encoded data removed]",
      "text/plain": [
       "<Figure size 432x288 with 1 Axes>"
      ]
     },
     "metadata": {
      "needs_background": "light"
     },
     "output_type": "display_data"
    }
   ],
   "source": [
    "plt.title(\"Virginica has highest mean sepal length\")\n",
    "sns.barplot(x=\"species\", y=\"sepal_length\", data=train)\n",
    "mean_sepal_length = train.sepal_length.mean()\n",
    "plt.axhline(mean_sepal_length, label=\"Mean sepal length\", color='red', linestyle='dotted')\n",
    "plt.xlabel('')\n",
    "plt.legend()\n",
    "plt.show()"
   ]
  },
  {
   "cell_type": "code",
   "execution_count": 29,
   "id": "9568bb61",
   "metadata": {},
   "outputs": [
    {
     "data": {
      "text/plain": [
       "<function matplotlib.pyplot.show(close=None, block=None)>"
      ]
     },
     "execution_count": 29,
     "metadata": {},
     "output_type": "execute_result"
    },
    {
     "data": {
      "image/png": "[encoded data removed]",
      "text/plain": [
       "<Figure size 432x288 with 1 Axes>"
      ]
     },
     "metadata": {
      "needs_background": "light"
     },
     "output_type": "display_data"
    }
   ],
   "source": [
    "plt.title(\"Setosa has highest mean sepal width\")\n",
    "sns.barplot(x=\"species\", y=\"sepal_width\", data=train)\n",
    "mean_sepal_width = train.sepal_width.mean()\n",
    "plt.axhline(mean_sepal_width, label=\"Mean sepal width\", color='red', linestyle='dotted')\n",
    "plt.xlabel('')\n",
    "plt.legend()\n",
    "plt.show"
   ]
  },
  {
   "cell_type": "code",
   "execution_count": 30,
   "id": "35bcf5f3",
   "metadata": {},
   "outputs": [
    {
     "data": {
      "image/png": "[encoded data removed]",
      "text/plain": [
       "<Figure size 432x288 with 1 Axes>"
      ]
     },
     "metadata": {
      "needs_background": "light"
     },
     "output_type": "display_data"
    }
   ],
   "source": [
    "plt.title(\"Virginica has highest mean petal length\")\n",
    "sns.barplot(x=\"species\", y=\"petal_length\", data=train)\n",
    "mean_petal_length = train.petal_length.mean()\n",
    "plt.axhline(mean_petal_length, label=\"Mean petal length\", color='red', linestyle='dotted')\n",
    "plt.xlabel('')\n",
    "plt.legend()\n",
    "plt.show()"
   ]
  },
  {
   "cell_type": "code",
   "execution_count": 31,
   "id": "4b96d681",
   "metadata": {},
   "outputs": [
    {
     "data": {
      "image/png": "[encoded data removed]",
      "text/plain": [
       "<Figure size 432x288 with 1 Axes>"
      ]
     },
     "metadata": {
      "needs_background": "light"
     },
     "output_type": "display_data"
    }
   ],
   "source": [
    "plt.title(\"Setosa has smallest mean petal width\")\n",
    "sns.barplot(x=\"species\", y=\"petal_width\", data=train)\n",
    "mean_petal_width = train.petal_width.mean()\n",
    "plt.axhline(mean_petal_width, label=\"Mean petal width\", color='red', linestyle='dotted')\n",
    "plt.xlabel('')\n",
    "plt.legend()\n",
    "plt.show()"
   ]
  },
  {
   "cell_type": "code",
   "execution_count": 32,
   "id": "3416886a",
   "metadata": {},
   "outputs": [
    {
     "data": {
      "text/html": [
       "<div>\n",
       "<style scoped>\n",
       "    .dataframe tbody tr th:only-of-type {\n",
       "        vertical-align: middle;\n",
       "    }\n",
       "\n",
       "    .dataframe tbody tr th {\n",
       "        vertical-align: top;\n",
       "    }\n",
       "\n",
       "    .dataframe thead th {\n",
       "        text-align: right;\n",
       "    }\n",
       "</style>\n",
       "<table border=\"1\" class=\"dataframe\">\n",
       "  <thead>\n",
       "    <tr style=\"text-align: right;\">\n",
       "      <th></th>\n",
       "      <th>sepal_length</th>\n",
       "      <th>sepal_width</th>\n",
       "      <th>petal_length</th>\n",
       "      <th>petal_width</th>\n",
       "    </tr>\n",
       "  </thead>\n",
       "  <tbody>\n",
       "    <tr>\n",
       "      <th>count</th>\n",
       "      <td>28.000000</td>\n",
       "      <td>28.000000</td>\n",
       "      <td>28.000000</td>\n",
       "      <td>28.000000</td>\n",
       "    </tr>\n",
       "    <tr>\n",
       "      <th>mean</th>\n",
       "      <td>6.625000</td>\n",
       "      <td>2.960714</td>\n",
       "      <td>5.535714</td>\n",
       "      <td>2.021429</td>\n",
       "    </tr>\n",
       "    <tr>\n",
       "      <th>std</th>\n",
       "      <td>0.532378</td>\n",
       "      <td>0.318956</td>\n",
       "      <td>0.496815</td>\n",
       "      <td>0.293582</td>\n",
       "    </tr>\n",
       "    <tr>\n",
       "      <th>min</th>\n",
       "      <td>5.800000</td>\n",
       "      <td>2.200000</td>\n",
       "      <td>4.800000</td>\n",
       "      <td>1.500000</td>\n",
       "    </tr>\n",
       "    <tr>\n",
       "      <th>25%</th>\n",
       "      <td>6.300000</td>\n",
       "      <td>2.800000</td>\n",
       "      <td>5.100000</td>\n",
       "      <td>1.800000</td>\n",
       "    </tr>\n",
       "    <tr>\n",
       "      <th>50%</th>\n",
       "      <td>6.450000</td>\n",
       "      <td>3.000000</td>\n",
       "      <td>5.500000</td>\n",
       "      <td>2.000000</td>\n",
       "    </tr>\n",
       "    <tr>\n",
       "      <th>75%</th>\n",
       "      <td>6.900000</td>\n",
       "      <td>3.100000</td>\n",
       "      <td>5.800000</td>\n",
       "      <td>2.300000</td>\n",
       "    </tr>\n",
       "    <tr>\n",
       "      <th>max</th>\n",
       "      <td>7.900000</td>\n",
       "      <td>3.800000</td>\n",
       "      <td>6.900000</td>\n",
       "      <td>2.500000</td>\n",
       "    </tr>\n",
       "  </tbody>\n",
       "</table>\n",
       "</div>"
      ],
      "text/plain": [
       "       sepal_length  sepal_width  petal_length  petal_width\n",
       "count     28.000000    28.000000     28.000000    28.000000\n",
       "mean       6.625000     2.960714      5.535714     2.021429\n",
       "std        0.532378     0.318956      0.496815     0.293582\n",
       "min        5.800000     2.200000      4.800000     1.500000\n",
       "25%        6.300000     2.800000      5.100000     1.800000\n",
       "50%        6.450000     3.000000      5.500000     2.000000\n",
       "75%        6.900000     3.100000      5.800000     2.300000\n",
       "max        7.900000     3.800000      6.900000     2.500000"
      ]
     },
     "execution_count": 32,
     "metadata": {},
     "output_type": "execute_result"
    }
   ],
   "source": [
    "# Virginica descriptive statistics\n",
    "virginica_describe_sl = pd.DataFrame(train[train.species == 'virginica'].sepal_length.describe())\n",
    "virginica_describe_sw = pd.DataFrame(train[train.species == 'virginica'].sepal_width.describe())\n",
    "virginica_describe_pl = pd.DataFrame(train[train.species == 'virginica'].petal_length.describe())\n",
    "virginica_describe_pw = pd.DataFrame(train[train.species == 'virginica'].petal_width.describe())\n",
    "\n",
    "virginica_describe = pd.concat([virginica_describe_sl, virginica_describe_sw], axis=1)\n",
    "virginica_describe = pd.concat([virginica_describe, virginica_describe_pl], axis=1)\n",
    "virginica_describe = pd.concat([virginica_describe, virginica_describe_pw], axis=1)\n",
    "virginica_describe"
   ]
  },
  {
   "cell_type": "code",
   "execution_count": 33,
   "id": "64b6f175",
   "metadata": {},
   "outputs": [
    {
     "data": {
      "text/html": [
       "<div>\n",
       "<style scoped>\n",
       "    .dataframe tbody tr th:only-of-type {\n",
       "        vertical-align: middle;\n",
       "    }\n",
       "\n",
       "    .dataframe tbody tr th {\n",
       "        vertical-align: top;\n",
       "    }\n",
       "\n",
       "    .dataframe thead th {\n",
       "        text-align: right;\n",
       "    }\n",
       "</style>\n",
       "<table border=\"1\" class=\"dataframe\">\n",
       "  <thead>\n",
       "    <tr style=\"text-align: right;\">\n",
       "      <th></th>\n",
       "      <th>sepal_length</th>\n",
       "      <th>sepal_width</th>\n",
       "      <th>petal_length</th>\n",
       "      <th>petal_width</th>\n",
       "    </tr>\n",
       "  </thead>\n",
       "  <tbody>\n",
       "    <tr>\n",
       "      <th>count</th>\n",
       "      <td>28.000000</td>\n",
       "      <td>28.000000</td>\n",
       "      <td>28.000000</td>\n",
       "      <td>28.00000</td>\n",
       "    </tr>\n",
       "    <tr>\n",
       "      <th>mean</th>\n",
       "      <td>5.089286</td>\n",
       "      <td>3.467857</td>\n",
       "      <td>1.507143</td>\n",
       "      <td>0.27500</td>\n",
       "    </tr>\n",
       "    <tr>\n",
       "      <th>std</th>\n",
       "      <td>0.360390</td>\n",
       "      <td>0.427788</td>\n",
       "      <td>0.184448</td>\n",
       "      <td>0.12057</td>\n",
       "    </tr>\n",
       "    <tr>\n",
       "      <th>min</th>\n",
       "      <td>4.400000</td>\n",
       "      <td>2.300000</td>\n",
       "      <td>1.200000</td>\n",
       "      <td>0.10000</td>\n",
       "    </tr>\n",
       "    <tr>\n",
       "      <th>25%</th>\n",
       "      <td>4.875000</td>\n",
       "      <td>3.275000</td>\n",
       "      <td>1.400000</td>\n",
       "      <td>0.20000</td>\n",
       "    </tr>\n",
       "    <tr>\n",
       "      <th>50%</th>\n",
       "      <td>5.000000</td>\n",
       "      <td>3.400000</td>\n",
       "      <td>1.500000</td>\n",
       "      <td>0.20000</td>\n",
       "    </tr>\n",
       "    <tr>\n",
       "      <th>75%</th>\n",
       "      <td>5.400000</td>\n",
       "      <td>3.800000</td>\n",
       "      <td>1.600000</td>\n",
       "      <td>0.40000</td>\n",
       "    </tr>\n",
       "    <tr>\n",
       "      <th>max</th>\n",
       "      <td>5.800000</td>\n",
       "      <td>4.400000</td>\n",
       "      <td>1.900000</td>\n",
       "      <td>0.60000</td>\n",
       "    </tr>\n",
       "  </tbody>\n",
       "</table>\n",
       "</div>"
      ],
      "text/plain": [
       "       sepal_length  sepal_width  petal_length  petal_width\n",
       "count     28.000000    28.000000     28.000000     28.00000\n",
       "mean       5.089286     3.467857      1.507143      0.27500\n",
       "std        0.360390     0.427788      0.184448      0.12057\n",
       "min        4.400000     2.300000      1.200000      0.10000\n",
       "25%        4.875000     3.275000      1.400000      0.20000\n",
       "50%        5.000000     3.400000      1.500000      0.20000\n",
       "75%        5.400000     3.800000      1.600000      0.40000\n",
       "max        5.800000     4.400000      1.900000      0.60000"
      ]
     },
     "execution_count": 33,
     "metadata": {},
     "output_type": "execute_result"
    }
   ],
   "source": [
    "# Setosa descriptive statistics\n",
    "setosa_describe_sl = pd.DataFrame(train[train.species == 'setosa'].sepal_length.describe())\n",
    "setosa_describe_sw = pd.DataFrame(train[train.species == 'setosa'].sepal_width.describe())\n",
    "setosa_describe_pl = pd.DataFrame(train[train.species == 'setosa'].petal_length.describe())\n",
    "setosa_describe_pw = pd.DataFrame(train[train.species == 'setosa'].petal_width.describe())\n",
    "\n",
    "setosa_describe = pd.concat([setosa_describe_sl, setosa_describe_sw], axis=1)\n",
    "setosa_describe = pd.concat([setosa_describe, setosa_describe_pl], axis=1)\n",
    "setosa_describe = pd.concat([setosa_describe, setosa_describe_pw], axis=1)\n",
    "setosa_describe"
   ]
  },
  {
   "cell_type": "code",
   "execution_count": 34,
   "id": "5775c797",
   "metadata": {},
   "outputs": [
    {
     "data": {
      "text/html": [
       "<div>\n",
       "<style scoped>\n",
       "    .dataframe tbody tr th:only-of-type {\n",
       "        vertical-align: middle;\n",
       "    }\n",
       "\n",
       "    .dataframe tbody tr th {\n",
       "        vertical-align: top;\n",
       "    }\n",
       "\n",
       "    .dataframe thead th {\n",
       "        text-align: right;\n",
       "    }\n",
       "</style>\n",
       "<table border=\"1\" class=\"dataframe\">\n",
       "  <thead>\n",
       "    <tr style=\"text-align: right;\">\n",
       "      <th></th>\n",
       "      <th>sepal_length</th>\n",
       "      <th>sepal_width</th>\n",
       "      <th>petal_length</th>\n",
       "      <th>petal_width</th>\n",
       "    </tr>\n",
       "  </thead>\n",
       "  <tbody>\n",
       "    <tr>\n",
       "      <th>count</th>\n",
       "      <td>28.000000</td>\n",
       "      <td>28.000000</td>\n",
       "      <td>28.000000</td>\n",
       "      <td>28.000000</td>\n",
       "    </tr>\n",
       "    <tr>\n",
       "      <th>mean</th>\n",
       "      <td>5.896429</td>\n",
       "      <td>2.796429</td>\n",
       "      <td>4.271429</td>\n",
       "      <td>1.314286</td>\n",
       "    </tr>\n",
       "    <tr>\n",
       "      <th>std</th>\n",
       "      <td>0.425556</td>\n",
       "      <td>0.280848</td>\n",
       "      <td>0.409930</td>\n",
       "      <td>0.199470</td>\n",
       "    </tr>\n",
       "    <tr>\n",
       "      <th>min</th>\n",
       "      <td>4.900000</td>\n",
       "      <td>2.300000</td>\n",
       "      <td>3.300000</td>\n",
       "      <td>1.000000</td>\n",
       "    </tr>\n",
       "    <tr>\n",
       "      <th>25%</th>\n",
       "      <td>5.600000</td>\n",
       "      <td>2.600000</td>\n",
       "      <td>4.000000</td>\n",
       "      <td>1.200000</td>\n",
       "    </tr>\n",
       "    <tr>\n",
       "      <th>50%</th>\n",
       "      <td>5.800000</td>\n",
       "      <td>2.800000</td>\n",
       "      <td>4.250000</td>\n",
       "      <td>1.300000</td>\n",
       "    </tr>\n",
       "    <tr>\n",
       "      <th>75%</th>\n",
       "      <td>6.125000</td>\n",
       "      <td>3.000000</td>\n",
       "      <td>4.525000</td>\n",
       "      <td>1.500000</td>\n",
       "    </tr>\n",
       "    <tr>\n",
       "      <th>max</th>\n",
       "      <td>6.900000</td>\n",
       "      <td>3.400000</td>\n",
       "      <td>5.100000</td>\n",
       "      <td>1.800000</td>\n",
       "    </tr>\n",
       "  </tbody>\n",
       "</table>\n",
       "</div>"
      ],
      "text/plain": [
       "       sepal_length  sepal_width  petal_length  petal_width\n",
       "count     28.000000    28.000000     28.000000    28.000000\n",
       "mean       5.896429     2.796429      4.271429     1.314286\n",
       "std        0.425556     0.280848      0.409930     0.199470\n",
       "min        4.900000     2.300000      3.300000     1.000000\n",
       "25%        5.600000     2.600000      4.000000     1.200000\n",
       "50%        5.800000     2.800000      4.250000     1.300000\n",
       "75%        6.125000     3.000000      4.525000     1.500000\n",
       "max        6.900000     3.400000      5.100000     1.800000"
      ]
     },
     "execution_count": 34,
     "metadata": {},
     "output_type": "execute_result"
    }
   ],
   "source": [
    "# Versicolor descriptive statistics\n",
    "versicolor_describe_sl = pd.DataFrame(train[train.species == 'versicolor'].sepal_length.describe())\n",
    "versicolor_describe_sw = pd.DataFrame(train[train.species == 'versicolor'].sepal_width.describe())\n",
    "versicolor_describe_pl = pd.DataFrame(train[train.species == 'versicolor'].petal_length.describe())\n",
    "versicolor_describe_pw = pd.DataFrame(train[train.species == 'versicolor'].petal_width.describe())\n",
    "\n",
    "versicolor_describe = pd.concat([versicolor_describe_sl, versicolor_describe_sw], axis=1)\n",
    "versicolor_describe = pd.concat([versicolor_describe, versicolor_describe_pl], axis=1)\n",
    "versicolor_describe = pd.concat([versicolor_describe, versicolor_describe_pw], axis=1)\n",
    "versicolor_describe"
   ]
  },
  {
   "cell_type": "markdown",
   "id": "64ed9b50",
   "metadata": {},
   "source": [
    "- For virginica & versicolor: Compare the mean petal_width using the Mann-Whitney test (scipy.stats.mannwhitneyu) to see if there is a significant difference between the two groups. Do the same for the other measurement types."
   ]
  },
  {
   "cell_type": "code",
   "execution_count": 35,
   "id": "3ef8005b",
   "metadata": {},
   "outputs": [
    {
     "data": {
      "text/plain": [
       "(767.0, 3.235595834904965e-10)"
      ]
     },
     "execution_count": 35,
     "metadata": {},
     "output_type": "execute_result"
    }
   ],
   "source": [
    "virginica = train[train.species == 'virginica']\n",
    "versicolor = train[train.species == 'versicolor']\n",
    "setosa = train[train.species == 'setosa']\n",
    "\n",
    "t, p = stats.mannwhitneyu(virginica.petal_width, versicolor.petal_width, alternative=\"greater\")\n",
    "t, p"
   ]
  },
  {
   "cell_type": "code",
   "execution_count": 36,
   "id": "39b020b2",
   "metadata": {},
   "outputs": [
    {
     "name": "stdout",
     "output_type": "stream",
     "text": [
      "Comparing sepal_length between virginica and versicolor\n",
      "676.5 1.541014598267054e-06\n",
      "------------------\n",
      "\n",
      "\n",
      "Comparing sepal_width between virginica and versicolor\n",
      "510.0 0.02628629569922847\n",
      "------------------\n",
      "\n",
      "\n",
      "Comparing petal_length between virginica and versicolor\n",
      "776.5 1.4739917857575313e-10\n",
      "------------------\n",
      "\n",
      "\n",
      "Comparing petal_width between virginica and versicolor\n",
      "767.0 3.235595834904965e-10\n",
      "------------------\n",
      "\n",
      "\n"
     ]
    }
   ],
   "source": [
    "test_var = ['sepal_length', 'sepal_width', 'petal_length', 'petal_width']\n",
    "for var in test_var:\n",
    "    t, p = t, p = stats.mannwhitneyu(virginica[var], versicolor[var], alternative=\"greater\")\n",
    "    print(f'Comparing {var} between virginica and versicolor')\n",
    "    print(t, p)\n",
    "    print('------------------')\n",
    "    print('\\n')"
   ]
  },
  {
   "cell_type": "markdown",
   "id": "ee8c0fdf",
   "metadata": {},
   "source": [
    "- Document takeaways & any actions."
   ]
  },
  {
   "cell_type": "markdown",
   "id": "a6d4380f",
   "metadata": {},
   "source": [
    "###### petal_length and petal_width show the most seperation between species.\n",
    "###### Could petal and sepal area be useful features?\n",
    "###### viginica iris have the largest petals.\n",
    "###### setosa iris have the smallest petals.\n",
    "###### setosa seem to have wide & short sepals."
   ]
  },
  {
   "cell_type": "markdown",
   "id": "07616437",
   "metadata": {},
   "source": [
    "# 4. Multivariate Stats\n",
    "\n",
    "- Visualize the interaction of each measurement type with the others using a pairplot (or scatter matrix or something similar) and add color to represent species."
   ]
  },
  {
   "cell_type": "markdown",
   "id": "3259d34b",
   "metadata": {},
   "source": [
    "- Visualize two numeric variables by means of the species. Hint: sns.relplot with hue or col"
   ]
  },
  {
   "cell_type": "markdown",
   "id": "615aa9ee",
   "metadata": {},
   "source": [
    "- Create a swarmplot using a melted dataframe of all your numeric variables. The x-axis should be the variable name, the y-axis the measure. Add another dimension using color to represent species. Document takeaways from this visualization."
   ]
  },
  {
   "cell_type": "markdown",
   "id": "f42ebc24",
   "metadata": {},
   "source": [
    "- Ask a specific question of the data, such as: is the sepal area signficantly different in virginica compared to setosa? Answer the question through both a plot and using a mann-whitney or t-test. If you use a t-test, be sure assumptions are met (independence, normality, equal variance)."
   ]
  },
  {
   "cell_type": "markdown",
   "id": "b0fc8393",
   "metadata": {},
   "source": [
    "- Document takeaways and any actions."
   ]
  },
  {
   "cell_type": "code",
   "execution_count": 38,
   "id": "239a1dd0",
   "metadata": {},
   "outputs": [],
   "source": [
    "train['sepal_area'] = train.sepal_length * train.sepal_width\n",
    "train['petal_area'] = train['petal_length'] * train['petal_width']"
   ]
  },
  {
   "cell_type": "code",
   "execution_count": 39,
   "id": "1dce3e3c",
   "metadata": {},
   "outputs": [
    {
     "data": {
      "text/html": [
       "<div>\n",
       "<style scoped>\n",
       "    .dataframe tbody tr th:only-of-type {\n",
       "        vertical-align: middle;\n",
       "    }\n",
       "\n",
       "    .dataframe tbody tr th {\n",
       "        vertical-align: top;\n",
       "    }\n",
       "\n",
       "    .dataframe thead th {\n",
       "        text-align: right;\n",
       "    }\n",
       "</style>\n",
       "<table border=\"1\" class=\"dataframe\">\n",
       "  <thead>\n",
       "    <tr style=\"text-align: right;\">\n",
       "      <th></th>\n",
       "      <th>species</th>\n",
       "      <th>sepal_length</th>\n",
       "      <th>sepal_width</th>\n",
       "      <th>petal_length</th>\n",
       "      <th>petal_width</th>\n",
       "      <th>sepal_area</th>\n",
       "      <th>petal_area</th>\n",
       "    </tr>\n",
       "  </thead>\n",
       "  <tbody>\n",
       "    <tr>\n",
       "      <th>79</th>\n",
       "      <td>versicolor</td>\n",
       "      <td>5.7</td>\n",
       "      <td>2.6</td>\n",
       "      <td>3.5</td>\n",
       "      <td>1.0</td>\n",
       "      <td>14.82</td>\n",
       "      <td>3.50</td>\n",
       "    </tr>\n",
       "    <tr>\n",
       "      <th>36</th>\n",
       "      <td>setosa</td>\n",
       "      <td>5.5</td>\n",
       "      <td>3.5</td>\n",
       "      <td>1.3</td>\n",
       "      <td>0.2</td>\n",
       "      <td>19.25</td>\n",
       "      <td>0.26</td>\n",
       "    </tr>\n",
       "    <tr>\n",
       "      <th>133</th>\n",
       "      <td>virginica</td>\n",
       "      <td>6.3</td>\n",
       "      <td>2.8</td>\n",
       "      <td>5.1</td>\n",
       "      <td>1.5</td>\n",
       "      <td>17.64</td>\n",
       "      <td>7.65</td>\n",
       "    </tr>\n",
       "    <tr>\n",
       "      <th>95</th>\n",
       "      <td>versicolor</td>\n",
       "      <td>5.7</td>\n",
       "      <td>3.0</td>\n",
       "      <td>4.2</td>\n",
       "      <td>1.2</td>\n",
       "      <td>17.10</td>\n",
       "      <td>5.04</td>\n",
       "    </tr>\n",
       "    <tr>\n",
       "      <th>18</th>\n",
       "      <td>setosa</td>\n",
       "      <td>5.7</td>\n",
       "      <td>3.8</td>\n",
       "      <td>1.7</td>\n",
       "      <td>0.3</td>\n",
       "      <td>21.66</td>\n",
       "      <td>0.51</td>\n",
       "    </tr>\n",
       "  </tbody>\n",
       "</table>\n",
       "</div>"
      ],
      "text/plain": [
       "        species  sepal_length  sepal_width  petal_length  petal_width  \\\n",
       "79   versicolor           5.7          2.6           3.5          1.0   \n",
       "36       setosa           5.5          3.5           1.3          0.2   \n",
       "133   virginica           6.3          2.8           5.1          1.5   \n",
       "95   versicolor           5.7          3.0           4.2          1.2   \n",
       "18       setosa           5.7          3.8           1.7          0.3   \n",
       "\n",
       "     sepal_area  petal_area  \n",
       "79        14.82        3.50  \n",
       "36        19.25        0.26  \n",
       "133       17.64        7.65  \n",
       "95        17.10        5.04  \n",
       "18        21.66        0.51  "
      ]
     },
     "execution_count": 39,
     "metadata": {},
     "output_type": "execute_result"
    }
   ],
   "source": [
    "train.head()"
   ]
  },
  {
   "cell_type": "code",
   "execution_count": 40,
   "id": "76f24b52",
   "metadata": {},
   "outputs": [],
   "source": [
    "combos = [\n",
    "    ('sepal_length', 'sepal_width'),\n",
    "    ('petal_length', 'petal_width'),\n",
    "    ('sepal_area', 'petal_area'),\n",
    "    ('sepal_length', 'petal_length')\n",
    "]"
   ]
  },
  {
   "cell_type": "code",
   "execution_count": 41,
   "id": "c9525b93",
   "metadata": {},
   "outputs": [
    {
     "data": {
      "text/plain": [
       "('sepal_length', 'sepal_width')"
      ]
     },
     "execution_count": 41,
     "metadata": {},
     "output_type": "execute_result"
    }
   ],
   "source": [
    "combos[0]"
   ]
  },
  {
   "cell_type": "code",
   "execution_count": 42,
   "id": "af92425f",
   "metadata": {},
   "outputs": [
    {
     "data": {
      "text/plain": [
       "species\n",
       "setosa        497.30\n",
       "versicolor    463.09\n",
       "virginica     551.46\n",
       "Name: sepal_area, dtype: float64"
      ]
     },
     "execution_count": 42,
     "metadata": {},
     "output_type": "execute_result"
    }
   ],
   "source": [
    "train.groupby('species')['sepal_area'].sum()"
   ]
  },
  {
   "cell_type": "code",
   "execution_count": 43,
   "id": "a6d9b8f8",
   "metadata": {},
   "outputs": [],
   "source": [
    "x = combos[0][0]\n",
    "y = combos[0][1]\n",
    "def scatter_species(x, y):\n",
    "    for species, subset in train.groupby('species'):\n",
    "        plt.scatter(subset[x], subset[y], label=species)\n",
    "        plt.xlabel(x)\n",
    "        plt.ylabel(y)\n",
    "        plt.legend()"
   ]
  },
  {
   "cell_type": "code",
   "execution_count": 44,
   "id": "d73fc721",
   "metadata": {},
   "outputs": [
    {
     "data": {
      "image/png": "[encoded data removed]",
      "text/plain": [
       "<Figure size 432x288 with 1 Axes>"
      ]
     },
     "metadata": {
      "needs_background": "light"
     },
     "output_type": "display_data"
    }
   ],
   "source": [
    "# test it with one plot\n",
    "scatter_species(x,y)"
   ]
  },
  {
   "cell_type": "code",
   "execution_count": 45,
   "id": "68c6cadc",
   "metadata": {},
   "outputs": [
    {
     "data": {
      "image/png": "[encoded data removed]",
      "text/plain": [
       "<Figure size 432x288 with 4 Axes>"
      ]
     },
     "metadata": {
      "needs_background": "light"
     },
     "output_type": "display_data"
    }
   ],
   "source": [
    "plt.subplot(2,2,1)\n",
    "scatter_species(combos[0][0], combos[0][1])\n",
    "plt.subplot(2,2,2)\n",
    "scatter_species(combos[1][0], combos[1][1])\n",
    "plt.subplot(2,2,3)\n",
    "scatter_species(combos[2][0], combos[2][1])\n",
    "plt.subplot(2,2,4)\n",
    "scatter_species(combos[3][0], combos[3][1])\n",
    "plt.tight_layout()"
   ]
  },
  {
   "cell_type": "code",
   "execution_count": 46,
   "id": "3b684785",
   "metadata": {},
   "outputs": [
    {
     "data": {
      "image/png": "[encoded data removed]",
      "text/plain": [
       "<Figure size 432x288 with 4 Axes>"
      ]
     },
     "metadata": {
      "needs_background": "light"
     },
     "output_type": "display_data"
    }
   ],
   "source": [
    "for i, pair in enumerate(combos):\n",
    "    plt.subplot(2,2,i+1)\n",
    "    scatter_species(pair[0], pair[1])"
   ]
  },
  {
   "cell_type": "markdown",
   "id": "ab3ed8b7",
   "metadata": {},
   "source": [
    "###### Takeaways\n",
    "\n",
    "- sepal_length is useful, sepal_width not great but likely adds some value.\n",
    "- petal_area is very useful, as we would expect given the previous plot of petal_width x petal length.\n",
    "- sepal_area is questionable, as we don't see much separation when we look at the 3rd plot in a hortizonal direction. Again, some value in sepal width, but not a ton.\n",
    "###### A heatmap of each variable layering correlation coefficient on top.\n",
    "\n",
    "###### n.b. Please do not put a heatmap with all correlation coefficients labeled as is in a presentation! A heatmap can be useful with minimal detail included. Maybe adding extreme values labeled. But not like this! This is for YOUR exploration."
   ]
  },
  {
   "cell_type": "code",
   "execution_count": 48,
   "id": "8bf84087",
   "metadata": {},
   "outputs": [
    {
     "data": {
      "text/html": [
       "<div>\n",
       "<style scoped>\n",
       "    .dataframe tbody tr th:only-of-type {\n",
       "        vertical-align: middle;\n",
       "    }\n",
       "\n",
       "    .dataframe tbody tr th {\n",
       "        vertical-align: top;\n",
       "    }\n",
       "\n",
       "    .dataframe thead th {\n",
       "        text-align: right;\n",
       "    }\n",
       "</style>\n",
       "<table border=\"1\" class=\"dataframe\">\n",
       "  <thead>\n",
       "    <tr style=\"text-align: right;\">\n",
       "      <th></th>\n",
       "      <th>sepal_length</th>\n",
       "      <th>sepal_width</th>\n",
       "      <th>petal_length</th>\n",
       "      <th>petal_width</th>\n",
       "      <th>sepal_area</th>\n",
       "      <th>petal_area</th>\n",
       "    </tr>\n",
       "  </thead>\n",
       "  <tbody>\n",
       "    <tr>\n",
       "      <th>sepal_length</th>\n",
       "      <td>1.000000</td>\n",
       "      <td>-0.154904</td>\n",
       "      <td>0.867976</td>\n",
       "      <td>0.824691</td>\n",
       "      <td>0.619853</td>\n",
       "      <td>0.860498</td>\n",
       "    </tr>\n",
       "    <tr>\n",
       "      <th>sepal_width</th>\n",
       "      <td>-0.154904</td>\n",
       "      <td>1.000000</td>\n",
       "      <td>-0.476228</td>\n",
       "      <td>-0.403306</td>\n",
       "      <td>0.673554</td>\n",
       "      <td>-0.341702</td>\n",
       "    </tr>\n",
       "    <tr>\n",
       "      <th>petal_length</th>\n",
       "      <td>0.867976</td>\n",
       "      <td>-0.476228</td>\n",
       "      <td>1.000000</td>\n",
       "      <td>0.957345</td>\n",
       "      <td>0.271618</td>\n",
       "      <td>0.953510</td>\n",
       "    </tr>\n",
       "    <tr>\n",
       "      <th>petal_width</th>\n",
       "      <td>0.824691</td>\n",
       "      <td>-0.403306</td>\n",
       "      <td>0.957345</td>\n",
       "      <td>1.000000</td>\n",
       "      <td>0.299920</td>\n",
       "      <td>0.982404</td>\n",
       "    </tr>\n",
       "    <tr>\n",
       "      <th>sepal_area</th>\n",
       "      <td>0.619853</td>\n",
       "      <td>0.673554</td>\n",
       "      <td>0.271618</td>\n",
       "      <td>0.299920</td>\n",
       "      <td>1.000000</td>\n",
       "      <td>0.373870</td>\n",
       "    </tr>\n",
       "    <tr>\n",
       "      <th>petal_area</th>\n",
       "      <td>0.860498</td>\n",
       "      <td>-0.341702</td>\n",
       "      <td>0.953510</td>\n",
       "      <td>0.982404</td>\n",
       "      <td>0.373870</td>\n",
       "      <td>1.000000</td>\n",
       "    </tr>\n",
       "  </tbody>\n",
       "</table>\n",
       "</div>"
      ],
      "text/plain": [
       "              sepal_length  sepal_width  petal_length  petal_width  \\\n",
       "sepal_length      1.000000    -0.154904      0.867976     0.824691   \n",
       "sepal_width      -0.154904     1.000000     -0.476228    -0.403306   \n",
       "petal_length      0.867976    -0.476228      1.000000     0.957345   \n",
       "petal_width       0.824691    -0.403306      0.957345     1.000000   \n",
       "sepal_area        0.619853     0.673554      0.271618     0.299920   \n",
       "petal_area        0.860498    -0.341702      0.953510     0.982404   \n",
       "\n",
       "              sepal_area  petal_area  \n",
       "sepal_length    0.619853    0.860498  \n",
       "sepal_width     0.673554   -0.341702  \n",
       "petal_length    0.271618    0.953510  \n",
       "petal_width     0.299920    0.982404  \n",
       "sepal_area      1.000000    0.373870  \n",
       "petal_area      0.373870    1.000000  "
      ]
     },
     "execution_count": 48,
     "metadata": {},
     "output_type": "execute_result"
    }
   ],
   "source": [
    "train.corr()"
   ]
  },
  {
   "cell_type": "code",
   "execution_count": 49,
   "id": "05c145fe",
   "metadata": {},
   "outputs": [
    {
     "data": {
      "image/png": "[encoded data removed]",
      "text/plain": [
       "<Figure size 432x288 with 2 Axes>"
      ]
     },
     "metadata": {
      "needs_background": "light"
     },
     "output_type": "display_data"
    }
   ],
   "source": [
    "sns.heatmap(train.corr(), cmap='mako', center=0, annot=True)\n",
    "plt.show()"
   ]
  },
  {
   "cell_type": "markdown",
   "id": "ce096aca",
   "metadata": {},
   "source": [
    "###### Takeaways\n",
    "\n",
    "- most measures correlate with each other, the least is sepal_width with sepal_lenght @ -.15.\n",
    "\n",
    "- Negative correlations: Wider sepals => shorter & narrower petals (smaller petal areas)\n",
    "\n",
    "- Positive correlations: Longer sepals => longer & wider petals (larger petal areas)\n",
    "\n",
    "- Little to no LINEAR correlation: sepal length & sepal width.\n",
    "\n",
    "A scatter matrix visualizing the interaction of each variable."
   ]
  },
  {
   "cell_type": "code",
   "execution_count": 51,
   "id": "b75e7fcd",
   "metadata": {},
   "outputs": [
    {
     "data": {
      "image/png": "[encoded data removed]",
      "text/plain": [
       "<Figure size 432x288 with 36 Axes>"
      ]
     },
     "metadata": {
      "needs_background": "light"
     },
     "output_type": "display_data"
    }
   ],
   "source": [
    "pd.plotting.scatter_matrix(train)\n",
    "plt.show()"
   ]
  },
  {
   "cell_type": "code",
   "execution_count": 52,
   "id": "75cc0260",
   "metadata": {},
   "outputs": [
    {
     "data": {
      "image/png": "[encoded data removed]",
      "text/plain": [
       "<Figure size 1164.75x1080 with 42 Axes>"
      ]
     },
     "metadata": {
      "needs_background": "light"
     },
     "output_type": "display_data"
    }
   ],
   "source": [
    "sns.pairplot(train, hue='species')\n",
    "plt.show()"
   ]
  },
  {
   "cell_type": "code",
   "execution_count": 53,
   "id": "648880b7",
   "metadata": {},
   "outputs": [
    {
     "name": "stdout",
     "output_type": "stream",
     "text": [
      "<class 'pandas.core.frame.DataFrame'>\n",
      "Int64Index: 84 entries, 79 to 73\n",
      "Data columns (total 7 columns):\n",
      " #   Column        Non-Null Count  Dtype  \n",
      "---  ------        --------------  -----  \n",
      " 0   species       84 non-null     object \n",
      " 1   sepal_length  84 non-null     float64\n",
      " 2   sepal_width   84 non-null     float64\n",
      " 3   petal_length  84 non-null     float64\n",
      " 4   petal_width   84 non-null     float64\n",
      " 5   sepal_area    84 non-null     float64\n",
      " 6   petal_area    84 non-null     float64\n",
      "dtypes: float64(6), object(1)\n",
      "memory usage: 7.3+ KB\n"
     ]
    }
   ],
   "source": [
    "train.info()"
   ]
  },
  {
   "cell_type": "markdown",
   "id": "6971cb2e",
   "metadata": {},
   "source": [
    "###### Takeaways\n",
    "\n",
    "- petal length + petal width show the most seperation between species.\n",
    "- setosa has the shortest and narrowest petals. It will be the easiest to determine.\n",
    "- petal area seems to show the largest separation between virginica & versicolor of all the individual features.\n",
    "- virginica shows slightly longer sepals, but whether that difference is significant, it's hard to say.\n",
    "- virginica and versicolor show little to no difference when it comes to the width of the sepals.\n",
    "###### Hypothesis\n",
    "\n",
    "alpha = .05\n",
    "\n",
    "$H_0$: Sepal length is the same in virginica and versicolor. $\\mu_{virginica} == \\mu_{versicolor}$.\n",
    "\n",
    "$H_a$: Sepal length significantly different in virginica and versicolor. $\\mu_{virginica} =!  \\mu_{versicolor}$."
   ]
  },
  {
   "cell_type": "code",
   "execution_count": 54,
   "id": "ec6f82d7",
   "metadata": {},
   "outputs": [],
   "source": [
    "virginica = train[train['species'] == 'virginica']\n",
    "versicolor = train[train['species'] == 'versicolor']"
   ]
  },
  {
   "cell_type": "code",
   "execution_count": 55,
   "id": "cb621f07",
   "metadata": {},
   "outputs": [
    {
     "data": {
      "image/png": "[encoded data removed]",
      "text/plain": [
       "<Figure size 432x288 with 6 Axes>"
      ]
     },
     "metadata": {
      "needs_background": "light"
     },
     "output_type": "display_data"
    }
   ],
   "source": [
    "virginica.hist()\n",
    "plt.show()"
   ]
  },
  {
   "cell_type": "code",
   "execution_count": 56,
   "id": "54cede54",
   "metadata": {},
   "outputs": [
    {
     "data": {
      "image/png": "[encoded data removed]",
      "text/plain": [
       "<Figure size 432x288 with 6 Axes>"
      ]
     },
     "metadata": {
      "needs_background": "light"
     },
     "output_type": "display_data"
    }
   ],
   "source": [
    "versicolor.hist()\n",
    "plt.show()"
   ]
  },
  {
   "cell_type": "code",
   "execution_count": 57,
   "id": "999211aa",
   "metadata": {},
   "outputs": [
    {
     "data": {
      "text/plain": [
       "0.5323776159136727"
      ]
     },
     "execution_count": 57,
     "metadata": {},
     "output_type": "execute_result"
    }
   ],
   "source": [
    "virginica.describe()['sepal_length']['std']"
   ]
  },
  {
   "cell_type": "code",
   "execution_count": 58,
   "id": "541fd1a7",
   "metadata": {},
   "outputs": [
    {
     "data": {
      "text/plain": [
       "count    28.000000\n",
       "mean      5.896429\n",
       "std       0.425556\n",
       "min       4.900000\n",
       "25%       5.600000\n",
       "50%       5.800000\n",
       "75%       6.125000\n",
       "max       6.900000\n",
       "Name: sepal_length, dtype: float64"
      ]
     },
     "execution_count": 58,
     "metadata": {},
     "output_type": "execute_result"
    }
   ],
   "source": [
    "versicolor.describe()['sepal_length']"
   ]
  },
  {
   "cell_type": "code",
   "execution_count": 59,
   "id": "b5d13f0e",
   "metadata": {},
   "outputs": [],
   "source": [
    "import scipy.stats as stats"
   ]
  },
  {
   "cell_type": "code",
   "execution_count": 60,
   "id": "b1d9532a",
   "metadata": {},
   "outputs": [],
   "source": [
    "tstat, p = stats.ttest_ind(virginica.sepal_length,\n",
    "                versicolor.sepal_length, \n",
    "                equal_var=False\n",
    "               )"
   ]
  },
  {
   "cell_type": "code",
   "execution_count": 61,
   "id": "f7871942",
   "metadata": {},
   "outputs": [
    {
     "data": {
      "text/plain": [
       "(5.656491804882077, 6.856736413800083e-07)"
      ]
     },
     "execution_count": 61,
     "metadata": {},
     "output_type": "execute_result"
    }
   ],
   "source": [
    "tstat, p"
   ]
  },
  {
   "cell_type": "markdown",
   "id": "0efac733",
   "metadata": {},
   "source": [
    "###### Conclusion\n",
    "\n",
    "We reject $H_0$ that the sepal length is the same for both groups.\n",
    "Takeaway\n",
    "\n",
    "Sepal length will be a useful feature.\n",
    "What about sepal_width? Let's use the Mann-Whitney test for demo purposes.\n",
    "\n",
    "###### Hypothesis\n",
    "\n",
    "alpha = .05\n",
    "\n",
    "$H_0$: Sepal width is the same in virginica and versicolor. $\\mu_{virginica} == \\mu_{versicolor}$.\n",
    "\n",
    "$H_a$: Sepal width significantly different in virginica and versicolor. $\\mu_{virginica} != \\mu_{versicolor}$."
   ]
  },
  {
   "cell_type": "code",
   "execution_count": 62,
   "id": "04aba1e0",
   "metadata": {},
   "outputs": [
    {
     "data": {
      "text/plain": [
       "MannwhitneyuResult(statistic=510.0, pvalue=0.05257259139845694)"
      ]
     },
     "execution_count": 62,
     "metadata": {},
     "output_type": "execute_result"
    }
   ],
   "source": [
    "stats.mannwhitneyu(virginica.sepal_width, \n",
    "                   versicolor.sepal_width\n",
    "                  )"
   ]
  },
  {
   "cell_type": "markdown",
   "id": "3dd3ccc0",
   "metadata": {},
   "source": [
    "###### Conclusion\n",
    "\n",
    "We reject $H_0$ that the sepal width is the same!\n",
    "\n",
    "###### Takeaway\n",
    "\n",
    "Sepal width, while not the strongest indicator, is still useful."
   ]
  },
  {
   "cell_type": "code",
   "execution_count": 63,
   "id": "2efec91b",
   "metadata": {},
   "outputs": [
    {
     "data": {
      "text/plain": [
       "<seaborn.axisgrid.FacetGrid at 0x7ff3089f5730>"
      ]
     },
     "execution_count": 63,
     "metadata": {},
     "output_type": "execute_result"
    },
    {
     "data": {
      "image/png": "[encoded data removed]",
      "text/plain": [
       "<Figure size 360x360 with 1 Axes>"
      ]
     },
     "metadata": {
      "needs_background": "light"
     },
     "output_type": "display_data"
    }
   ],
   "source": [
    "sns.catplot(data=train, x='species', y='petal_area', kind='strip')"
   ]
  },
  {
   "cell_type": "code",
   "execution_count": 64,
   "id": "bdd2d939",
   "metadata": {},
   "outputs": [
    {
     "data": {
      "text/plain": [
       "<seaborn.axisgrid.FacetGrid at 0x7ff2fc1fe3d0>"
      ]
     },
     "execution_count": 64,
     "metadata": {},
     "output_type": "execute_result"
    },
    {
     "data": {
      "image/png": "[encoded data removed]",
      "text/plain": [
       "<Figure size 1164.75x360 with 3 Axes>"
      ]
     },
     "metadata": {
      "needs_background": "light"
     },
     "output_type": "display_data"
    }
   ],
   "source": [
    "sns.relplot(data=train, x='sepal_area', y='petal_area', kind='scatter', hue='species', col='species')"
   ]
  },
  {
   "cell_type": "markdown",
   "id": "1b5edcff",
   "metadata": {},
   "source": [
    "# Exercises Part II  Solution (Curriculum)\n",
    "https://github.com/rajaramgautam/classification-exercises/blob/main/exploratory_data_analysis_curriculum.ipynb"
   ]
  },
  {
   "cell_type": "markdown",
   "id": "2f7bdf3f",
   "metadata": {},
   "source": [
    "# Exercises Part II\n",
    "\n",
    "- Explore your titanic dataset more completely."
   ]
  },
  {
   "cell_type": "markdown",
   "id": "08ab0e80",
   "metadata": {},
   "source": [
    "- Determine drivers of the target variable"
   ]
  },
  {
   "cell_type": "markdown",
   "id": "68dad25e",
   "metadata": {},
   "source": [
    "- Determine if certain columns should be dropped"
   ]
  },
  {
   "cell_type": "markdown",
   "id": "e1da0dfb",
   "metadata": {},
   "source": [
    "- Determine if it would be valuable to bin some numeric columns"
   ]
  },
  {
   "cell_type": "markdown",
   "id": "bd409fa4",
   "metadata": {},
   "source": [
    "- Determine if it would be valuable to combine multiple columns into one."
   ]
  },
  {
   "cell_type": "markdown",
   "id": "9fa87035",
   "metadata": {},
   "source": [
    "# Does it make sense to combine any features?"
   ]
  },
  {
   "cell_type": "markdown",
   "id": "a1e41f00",
   "metadata": {},
   "source": [
    "# Do you find any surprises?"
   ]
  },
  {
   "cell_type": "markdown",
   "id": "dff52b4b",
   "metadata": {},
   "source": [
    "# Document any and all findings and takeaways in your notebook using markdown."
   ]
  },
  {
   "cell_type": "markdown",
   "id": "27cda1cf",
   "metadata": {},
   "source": [
    "# Exercises Part III"
   ]
  },
  {
   "cell_type": "markdown",
   "id": "6ad2af46",
   "metadata": {},
   "source": [
    "- Explore your telco data to discover drivers of churn"
   ]
  },
  {
   "cell_type": "markdown",
   "id": "b667865f",
   "metadata": {},
   "source": [
    "- Determine if certain columns should be dropped"
   ]
  },
  {
   "cell_type": "markdown",
   "id": "b4d36a27",
   "metadata": {},
   "source": [
    "- Determine if it would be valuable to bin some numeric columns"
   ]
  },
  {
   "cell_type": "markdown",
   "id": "be10d675",
   "metadata": {},
   "source": [
    " - Determine if it would be valuable to combine multiple columns into one."
   ]
  },
  {
   "cell_type": "markdown",
   "id": "006aa1e8",
   "metadata": {},
   "source": [
    "# What are your drivers of churn?"
   ]
  },
  {
   "cell_type": "markdown",
   "id": "47a3a883",
   "metadata": {},
   "source": [
    "# Does it make sense to combine any features?"
   ]
  },
  {
   "cell_type": "markdown",
   "id": "8f6f42b7",
   "metadata": {},
   "source": [
    "# Do you find any surprises?"
   ]
  },
  {
   "cell_type": "markdown",
   "id": "877fddae",
   "metadata": {},
   "source": [
    "# Document any and all findings and takeaways in your notebook using markdown."
   ]
  },
  {
   "cell_type": "code",
   "execution_count": null,
   "id": "096b5864",
   "metadata": {},
   "outputs": [],
   "source": []
  }
 ],
 "metadata": {
  "kernelspec": {
   "display_name": "Python 3 (ipykernel)",
   "language": "python",
   "name": "python3"
  },
  "language_info": {
   "codemirror_mode": {
    "name": "ipython",
    "version": 3
   },
   "file_extension": ".py",
   "mimetype": "text/x-python",
   "name": "python",
   "nbconvert_exporter": "python",
   "pygments_lexer": "ipython3",
   "version": "3.8.8"
  }
 },
 "nbformat": 4,
 "nbformat_minor": 5
}
